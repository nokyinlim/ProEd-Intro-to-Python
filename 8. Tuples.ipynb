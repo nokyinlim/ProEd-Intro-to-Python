{
 "cells": [
  {
   "cell_type": "markdown",
   "metadata": {
    "id": "gEXzbwyAfrQE"
   },
   "source": [
    "# Tuples\n",
    "\n",
    "Tuples are ordered iterable groupings of references to objects, but they are different to lists or dictionaries in a number of important ways. The main difference is that a tuple is \"immutable\" - meaning it cannot be altered once it has been created. Tuples also allow some useful operations and are slightly faster and more memory efficient that lists and dictionaries."
   ]
  },
  {
   "cell_type": "markdown",
   "metadata": {
    "id": "LSo-A0ROgJQ_"
   },
   "source": [
    "## Syntax\n",
    "Tuples are defined by group variables within parentheses, separated by commas. Elements of the tuple may be accessed using the same square brackets notation as a list. For instance:"
   ]
  },
  {
   "cell_type": "code",
   "execution_count": null,
   "metadata": {
    "id": "JZ3UkSTUfoHm"
   },
   "outputs": [],
   "source": [
    "tuple1=(1, \"a\", False)\n",
    "print(tuple1[0])"
   ]
  },
  {
   "cell_type": "markdown",
   "metadata": {
    "id": "jlD82nNl1cMM"
   },
   "source": [
    "## Referencing Other Variables\n",
    "\n",
    "Tuples can also be useful as references to other variables. Note, that, if these variables are mutable, they may be modified through the tuple reference. It is only the reference to the variable within the tuple which is immutable. To demonstrate this, consider the following tuple of lists:"
   ]
  },
  {
   "cell_type": "code",
   "execution_count": null,
   "metadata": {
    "id": "mr9QPzXu10zz"
   },
   "outputs": [],
   "source": [
    "list1=[1,2,3]\n",
    "\n",
    "tuple1=(list1, [4,5,6])\n",
    "print(tuple1)\n",
    "\n",
    "#Modify list1 using the tuple\n",
    "tuple1[0].append(7)\n",
    "print(tuple1)\n",
    "#Check that the original list has also been modified\n",
    "print(list1)\n",
    "\n",
    "#Now, if we try to change the variable the tuple refers, we'll get an error\n",
    "list2=[\"a\", \"b\", \"c\"]\n",
    "tuple1[0]=list2"
   ]
  },
  {
   "cell_type": "markdown",
   "metadata": {
    "id": "3xWYk3N34mNP"
   },
   "source": [
    "Of course, you can always create a new tuple and set the variable it referenced to reference the new tuple. For example:"
   ]
  },
  {
   "cell_type": "code",
   "execution_count": null,
   "metadata": {
    "id": "_2IFlo3j4uo7"
   },
   "outputs": [],
   "source": [
    "tuple1=(1,2,3)\n",
    "print(tuple1)\n",
    "tuple1=(4,5,6)\n",
    "print(tuple1)"
   ]
  },
  {
   "cell_type": "markdown",
   "metadata": {
    "id": "P3uXcG6P5ZsF"
   },
   "source": [
    "## Tuple Assignment\n",
    "\n",
    "It's possible to assign multiple variables with one statement using a tuple. For example:"
   ]
  },
  {
   "cell_type": "code",
   "execution_count": null,
   "metadata": {
    "id": "VIzUmiu85irB"
   },
   "outputs": [],
   "source": [
    "tuple1=(5,6,7)\n",
    "(a,b,c)=tuple1\n",
    "print(a)\n",
    "print(b)\n",
    "print(c)\n",
    "\n",
    "(a,b,c)=(1,2,3)\n",
    "print(a)\n",
    "print(b)\n",
    "print(c)"
   ]
  },
  {
   "cell_type": "markdown",
   "metadata": {
    "id": "5xmXyZVc5udh"
   },
   "source": [
    "### Exercise\n",
    "By adding only a single line to the code below, use tuple assignment to swap the values of ```x``` and ```y``` in following code cell:"
   ]
  },
  {
   "cell_type": "code",
   "execution_count": 1,
   "metadata": {
    "id": "aDYyp1Qi6IkU"
   },
   "outputs": [
    {
     "name": "stdout",
     "output_type": "stream",
     "text": [
      "2\n",
      "1\n"
     ]
    }
   ],
   "source": [
    "x=1\n",
    "y=2\n",
    "\n",
    "#Put your line of code below here\n",
    "(x, y) = (y, x)\n",
    "#Put your line of code above here\n",
    "\n",
    "print(x)\n",
    "print(y)"
   ]
  },
  {
   "cell_type": "markdown",
   "metadata": {
    "id": "tlu-Lnws8Xcu"
   },
   "source": [
    "## Returning Multiple Variables From a Function\n",
    "By returning a tuple from a function, you may effectively return multiple variables in the function return. For example:"
   ]
  },
  {
   "cell_type": "code",
   "execution_count": null,
   "metadata": {
    "id": "IzmQgAap8pWS"
   },
   "outputs": [],
   "source": [
    "#This function returns the smallest and the biggest values from a list\n",
    "def smallest_biggest(the_list):\n",
    "  return(min(the_list), max(the_list))\n",
    "\n",
    "(minimum, maximum)=smallest_biggest([1,4,99,-5])\n",
    "\n",
    "print(minimum)\n",
    "print(maximum)"
   ]
  },
  {
   "cell_type": "markdown",
   "metadata": {
    "id": "kffnIPBH6WcA"
   },
   "source": [
    "## Why Use Tuples?\n",
    "The usage of tuples overlaps with the usage of lists and dictionaries in many ways. They're both collections of references to other objects. However, there are times you might want to use a tuple:\n",
    "\n",
    "* You want to make a reference to variables unchangeable elsewhere in the code\n",
    "* The order of data in your variable has an important meaning\n",
    "* You want to return multiple variables from a function\n",
    "* You want to use a tuple as a key for a dictionary\n",
    "* You don't need to change the stored references and want the extra speed of a tuple\n",
    "\n",
    "Of these, the most important is probably the fact that tuples can return multiple values from a function, but you may want to make use of these other properties at some point.\n",
    "\n",
    "##Exercise\n",
    "Suppose we have a system of coordinates (x,y,z). We decide to store these variables as a tuple for two different points and want to find the vector describing the displacement between them, also as a tuple. In the code section below, complete the function that will give the displacement of location ```r2``` from location ```r1```:"
   ]
  },
  {
   "cell_type": "code",
   "execution_count": null,
   "metadata": {
    "colab": {
     "base_uri": "https://localhost:8080/"
    },
    "executionInfo": {
     "elapsed": 4,
     "status": "ok",
     "timestamp": 1689580039479,
     "user": {
      "displayName": "SM",
      "userId": "11220677222082138407"
     },
     "user_tz": -60
    },
    "id": "oqd9eldS96bz",
    "outputId": "cd49d4d6-d1a8-43c4-f47e-4a5a9b0baa31"
   },
   "outputs": [
    {
     "name": "stdout",
     "output_type": "stream",
     "text": [
      "(-29.200000000000003, 1.0, -4.800000000000001)\n"
     ]
    }
   ],
   "source": [
    "#Complete this function\n",
    "def displacement(r1, r2):\n",
    "  # calculate individual displacement per dimension\n",
    "  dx = r2[0] - r1[0]\n",
    "  dy = r2[1] - r1[1]\n",
    "  dz = r2[2] - r1[2]\n",
    "  return (dx, dy, dz)\n",
    "\n",
    "r1=(40.2, -1.0, 8.9)\n",
    "r2=(11.0, 0.0, 4.1)\n",
    "\n",
    "print(displacement(r1, r2))"
   ]
  }
 ],
 "metadata": {
  "colab": {
   "provenance": [
    {
     "file_id": "1kuia0XBXE1zyh67pZVAX--G-9ek0TyMW",
     "timestamp": 1571407136797
    },
    {
     "file_id": "10xxi8U_Jv0klNKyA-NQRDp_SfXbdUH3B",
     "timestamp": 1571407119680
    }
   ]
  },
  "kernelspec": {
   "display_name": "base",
   "language": "python",
   "name": "python3"
  },
  "language_info": {
   "codemirror_mode": {
    "name": "ipython",
    "version": 3
   },
   "file_extension": ".py",
   "mimetype": "text/x-python",
   "name": "python",
   "nbconvert_exporter": "python",
   "pygments_lexer": "ipython3",
   "version": "3.12.4"
  }
 },
 "nbformat": 4,
 "nbformat_minor": 0
}
