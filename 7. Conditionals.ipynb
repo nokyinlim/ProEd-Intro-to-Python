{
 "cells": [
  {
   "cell_type": "markdown",
   "metadata": {
    "id": "u1rQiRqpy9rI"
   },
   "source": [
    "# Conditionals\n",
    "One type of variable in Python is the ```bool```, which may be ```True``` or ```False```. We can use this type to control which through a program the code execution will take using the ```if``` statement.\n",
    "\n"
   ]
  },
  {
   "cell_type": "markdown",
   "metadata": {
    "id": "DA8j-kxRvqpn"
   },
   "source": [
    "## Syntax\n",
    "\n",
    "An ```if``` block has the syntax:\n",
    "\n",
    "```python\n",
    "if bool_var1:\n",
    "  [Do some stuff]\n",
    "elif bool_var2:\n",
    "  [Do different stuff]\n",
    "elif bool_var3:\n",
    "  [Do other different stuff]\n",
    "else:\n",
    "  [Do other other different stuff]\n",
    "  ```\n",
    "\n",
    "Python will work through the conditional block from top to bottom, checking if each ```bool``` variable is ```True``` or not. If it is true, it will do the indented block and then skip to the bottom of the ```if``` block (here, this is after the indented block following the ```else``` statement. If none of the boolean variables have been true, then it will execute whatever is in the else statement.\n",
    "\n",
    "You can include as many ```elif``` (\"else if\") statements as you like, but you aren't required to include any. You are also not required to include an ```else``` statement but, if you do, you can only include one.\n",
    "\n",
    "### Exercise\n",
    "Some example conditional blocks are found below. Write down what results you expect to be printed then run the code block to see if you were right."
   ]
  },
  {
   "cell_type": "code",
   "execution_count": 1,
   "metadata": {
    "id": "XI4CiEBmx9J_"
   },
   "outputs": [
    {
     "name": "stdout",
     "output_type": "stream",
     "text": [
      "A1\n",
      "A2\n",
      "C2\n",
      "D2\n",
      "E2\n",
      "The End\n"
     ]
    }
   ],
   "source": [
    "if True:\n",
    "  print(\"A1\") \n",
    "\n",
    "print(\"A2\")\n",
    "\n",
    "# A1; A2 printed\n",
    "\n",
    "bool_var1=False\n",
    "bool_var2=True\n",
    "\n",
    "if bool_var1:\n",
    "  print(\"B1\") # nothing printed\n",
    "\n",
    "if bool_var1:\n",
    "  print(\"C1\") # none\n",
    "else:\n",
    "  print(\"C2\") # C2\n",
    "\n",
    "if bool_var1:\n",
    "  print(\"D1\") # nothing\n",
    "elif bool_var2:\n",
    "  print(\"D2\") # D2\n",
    "else:\n",
    "  print(\"D3\")\n",
    "\n",
    "if bool_var1:\n",
    "  print(\"E1\") # none\n",
    "elif True:\n",
    "  print(\"E2\") # E2\n",
    "elif bool_var2:\n",
    "  print(\"E3\") # unreachable\n",
    "else:\n",
    "  print(\"E4\")\n",
    "\n",
    "if bool_var1:\n",
    "  print(\"F1\") # none\n",
    "elif False:\n",
    "  print(\"F2\") # none\n",
    "\n",
    "print(\"The End\") # The End"
   ]
  },
  {
   "cell_type": "markdown",
   "metadata": {
    "id": "BnUpWwVNzs8g"
   },
   "source": [
    "## Boolean Operators\n",
    "So far, we've only dealt with cases where we've written a constant boolean value in the ```if``` statement. In practice, it's much more useful to calculate a boolean value as we progress to decide which code path to take depending on some condition in the code.\n",
    "\n",
    "To do this, we can use conditional operators which return a ```bool```. These include:\n",
    "\n",
    "| Operator | Example  | Description |\n",
    "|------|-------|-------|\n",
    "| ```<``` | ```a<b``` | Is true if the value of ```a``` is less than the value of ```b``` |\n",
    "| ```>``` | ```a>b``` | Is true if the value of ```a``` is less than the value of ```b``` |\n",
    "| ```==``` | ```a==b``` | Is true if the values of ```a``` and ```b``` are equal |\n",
    "| ```is``` | ```a is b``` | Is true if the variables ```a``` and ```b``` refer to the same object |\n",
    "| ```!=``` | ```a!=b``` | Is true if the values of ```a``` and ```b``` are not equal |\n",
    "| ```in``` | ```a in b``` | If ```a``` and ```b``` are strings, checks if the substring ```a``` is in ```b``` <br> If ```b``` is another iterable, checks if any entry of ```b``` has the same value as ```a``` |\n",
    "\n",
    "Here are some examples:"
   ]
  },
  {
   "cell_type": "code",
   "execution_count": null,
   "metadata": {
    "id": "ST5p7CHz4QuO"
   },
   "outputs": [],
   "source": [
    "print(\"Less than -----------------\")\n",
    "print(1<2)\n",
    "print(1<1)\n",
    "print(2<1)\n",
    "\n",
    "print(\"Greater than---------------\")\n",
    "a=1\n",
    "b=2\n",
    "print(a<2)\n",
    "print(1<a)\n",
    "print(b<a)\n",
    "\n",
    "print(\"Equality-------------------\")\n",
    "print(a==1)\n",
    "print(a==b)\n",
    "list1=[1,2]\n",
    "list2=[1,2]\n",
    "list3=list1\n",
    "print(list1==list2)\n",
    "print(list1==list3)\n",
    "\n",
    "print(\"Is-------------------------\")\n",
    "print(1 is 1)\n",
    "print(a is b)\n",
    "print(list1 is list2)\n",
    "print(list1 is list3)\n",
    "\n",
    "print(\"Inequality------------------\")\n",
    "print(a!=1)\n",
    "print(a != b)\n",
    "print(list1 != list2)\n",
    "print(list1 != list3)\n",
    "\n",
    "print(\"In-------------------------\")\n",
    "print(\"fun\" in \"fundamentals\")\n",
    "print(\"fun\" in \"skipping ahead\")\n",
    "print(a in list3)\n",
    "print(3 in list1)"
   ]
  },
  {
   "cell_type": "markdown",
   "metadata": {
    "id": "pvLtfjDf6m2B"
   },
   "source": [
    "## Boolean Operators in ```if``` Statements\n",
    "We can include boolean operators in the if statement itself or calculate a boolean variable and place that in the ```if``` statement. Both of these are valid:\n",
    "\n",
    "```python\n",
    "bool_var=a==b\n",
    "if bool_var:\n",
    "  [Do something]\n",
    "\n",
    "if a==b:\n",
    "  [Do something]\n",
    "  ```\n",
    "\n",
    "We can also combine booleans using operators. A selection of boolean operators is explained below\n",
    "\n",
    "| Operator | Example  | Description |\n",
    "|------|-------|-------|\n",
    "| ```not``` | ```not a``` | Is true if the value of ```a``` is ```False``` |\n",
    "| ```and``` | ```a and b``` | Is true if both ```a``` and ```b``` are ```True```|\n",
    "| ```or``` | ```a or b``` | Is true if either the value of ```a``` or ```b``` is ```True``` |\n",
    "\n",
    "We can also combine booleans in a particular order using parentheses, which work the same as for numeric operations. The order of precedence for these operations is:\n",
    "\n",
    "* Parentheses\n",
    "* Comparison (e.g. ```>```)\n",
    "* ```not```\n",
    "* ```and```\n",
    "* ```or```\n",
    "\n",
    "### Exercise\n",
    "Look at the cases below and write down what you think the results of each will be before running the code cell:"
   ]
  },
  {
   "cell_type": "code",
   "execution_count": 2,
   "metadata": {
    "id": "9fUvWena7QOv"
   },
   "outputs": [
    {
     "name": "stdout",
     "output_type": "stream",
     "text": [
      "Case 1\n",
      "False\n",
      "Case 2\n",
      "A\n",
      "Case 3\n",
      "B\n",
      "Case 4\n",
      "A\n",
      "Case 5\n",
      "C\n"
     ]
    },
    {
     "name": "stderr",
     "output_type": "stream",
     "text": [
      "<>:32: SyntaxWarning: \"is\" with 'int' literal. Did you mean \"==\"?\n",
      "<>:32: SyntaxWarning: \"is\" with 'int' literal. Did you mean \"==\"?\n",
      "/var/folders/zb/db7fspw16sz604cw1ls073cm0000gn/T/ipykernel_7046/1750240639.py:32: SyntaxWarning: \"is\" with 'int' literal. Did you mean \"==\"?\n",
      "  if 4/2==2 and a is 1:\n"
     ]
    }
   ],
   "source": [
    "print(\"Case 1\")\n",
    "print(not True) # False\n",
    "\n",
    "print(\"Case 2\")\n",
    "# 1 > 2 is False.\n",
    "if not 1>2:\n",
    "  print(\"A\") # A\n",
    "else:\n",
    "  print(\"B\")\n",
    "\n",
    "# True && 2 < 1\n",
    "# 2 < 1 == False; condition fails\n",
    "print(\"Case 3\")\n",
    "if True and 2<1:\n",
    "  print(\"A\")\n",
    "\n",
    "# 4 != 5 == True\n",
    "# 2 < 1 == False, but since it's an or it doesn't matter\n",
    "elif 4!=5 or 2<1:\n",
    "  print(\"B\") # B\n",
    "else:\n",
    "  print(\"C\")\n",
    "\n",
    "print(\"Case 4\")\n",
    "a=1\n",
    "b=1\n",
    "\n",
    "# a is 1 returns True\n",
    "# 4 / 2 == 2 returns True\n",
    "# True and True returns True\n",
    "\n",
    "if 4/2==2 and a is 1:\n",
    "  print(\"A\") # A\n",
    "# all other conditions skipped\n",
    "elif 1 in [4.1, True, \"p\"] or a is b:\n",
    "  print(\"B\")\n",
    "else:\n",
    "  print(\"C\")\n",
    "\n",
    "print(\"Case 5\")\n",
    "list1=[\"a\", \"b\", \"c\"]\n",
    "\n",
    "# 2 * a == 1 is False\n",
    "# and gate returns False\n",
    "if 2*a==1 and 1!=2:\n",
    "  print(\"A\")\n",
    "# \"fine\" in \"refinements\" returns True\n",
    "# list1[1] == \"a\" returns False\n",
    "# condition fails\n",
    "elif \"fine\" in \"refinements\" and list1[1]==\"a\":\n",
    "  print(\"B\")\n",
    "else:\n",
    "  print(\"C\") # C"
   ]
  }
 ],
 "metadata": {
  "colab": {
   "provenance": [
    {
     "file_id": "1Fo6gIf6hB-rjcbU2SlAtTf6dNcVjSgce",
     "timestamp": 1571319047916
    }
   ]
  },
  "kernelspec": {
   "display_name": "base",
   "language": "python",
   "name": "python3"
  },
  "language_info": {
   "codemirror_mode": {
    "name": "ipython",
    "version": 3
   },
   "file_extension": ".py",
   "mimetype": "text/x-python",
   "name": "python",
   "nbconvert_exporter": "python",
   "pygments_lexer": "ipython3",
   "version": "3.12.4"
  }
 },
 "nbformat": 4,
 "nbformat_minor": 0
}
