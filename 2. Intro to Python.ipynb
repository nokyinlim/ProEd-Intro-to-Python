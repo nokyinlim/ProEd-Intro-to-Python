{
 "cells": [
  {
   "cell_type": "markdown",
   "metadata": {
    "id": "Fait_HuyPyMe"
   },
   "source": [
    "# My First Program"
   ]
  },
  {
   "cell_type": "markdown",
   "metadata": {
    "id": "thbLaX4rtYOO"
   },
   "source": [
    "##Introduction\n",
    "In this notebook you'll be introduced to a series of simple commands in Python and asked to write short pieces of code using them to achieve particular outcomes. Many of the commands we visit here, we will return to later to gain a more in-depth understanding of how they work.\n",
    "\n",
    "Throughout this notebook, if you find yourself with some extra time, try variations on the exercise and see what will work. If the notebook states something must be done in a particular way try doing it in a different way. What happens?"
   ]
  },
  {
   "cell_type": "markdown",
   "metadata": {
    "id": "XFux5qdMP67i"
   },
   "source": [
    "## Print\n",
    "\n",
    "The first command is \"print\". By writing \"print\", followed by a pair of parentheses, Python will print to the screen whatever is inside the parentheses. If you want to print text, it must be inside single or double quotation marks:"
   ]
  },
  {
   "cell_type": "code",
   "execution_count": 7,
   "metadata": {
    "colab": {
     "base_uri": "https://localhost:8080/"
    },
    "executionInfo": {
     "elapsed": 3,
     "status": "ok",
     "timestamp": 1689418938430,
     "user": {
      "displayName": "SM",
      "userId": "11220677222082138407"
     },
     "user_tz": -60
    },
    "id": "1WzfvF3mtYOP",
    "outputId": "c8520a01-fe41-4a16-b56d-ea5847ea3dc3"
   },
   "outputs": [
    {
     "name": "stdout",
     "output_type": "stream",
     "text": [
      "3\n",
      "Some text\n",
      "More text\n"
     ]
    }
   ],
   "source": [
    "print(3)\n",
    "print(\"Some text\")\n",
    "print('More text')"
   ]
  },
  {
   "cell_type": "markdown",
   "metadata": {
    "id": "GYCzDTB7tYOT"
   },
   "source": [
    "Notice how the output of the code is displayed below the cell in Jupyter Notebooks. Outside of a notebook, print statements in Python will commonly be printed to the terminal used to run the script. Print statements can be very useful for checking what values variables within the code take and catch errors.\n",
    "\n",
    "Now you can try this yourself. In the cell below, write some code which prints the phrase \"Hello World\", another section which writes an integer of your choice and another which writes a negative non-integer number of your choice. Use three separate print statements:"
   ]
  },
  {
   "cell_type": "code",
   "execution_count": 8,
   "metadata": {
    "id": "IYBQdhcGtYOT"
   },
   "outputs": [
    {
     "name": "stdout",
     "output_type": "stream",
     "text": [
      "Hello world\n",
      "5\n",
      "-4.3131\n"
     ]
    }
   ],
   "source": [
    "print(\"Hello world\")\n",
    "print(5)\n",
    "print(-4.3131)"
   ]
  },
  {
   "cell_type": "code",
   "execution_count": 9,
   "metadata": {
    "cellView": "form",
    "colab": {
     "base_uri": "https://localhost:8080/"
    },
    "executionInfo": {
     "elapsed": 211,
     "status": "ok",
     "timestamp": 1689418958818,
     "user": {
      "displayName": "SM",
      "userId": "11220677222082138407"
     },
     "user_tz": -60
    },
    "id": "R6IV6xybldu9",
    "outputId": "5568880f-5bbe-4582-81cc-9c314b730b56"
   },
   "outputs": [
    {
     "name": "stdout",
     "output_type": "stream",
     "text": [
      "Hello world\n",
      "4\n",
      "-3.14\n"
     ]
    }
   ],
   "source": [
    "#@title\n",
    "\n",
    "#Print the required values to the screen by placing them within the parentheses of the print function\n",
    "print(\"Hello world\")\n",
    "print(4)\n",
    "print(-3.14)"
   ]
  },
  {
   "cell_type": "markdown",
   "metadata": {
    "id": "jXBQyq-stYOV"
   },
   "source": [
    "## Setting Variables\n",
    "A key concept in any coding language is that of a \"variable\". This is a way of labelling a piece of information with a name and storing it, allowing it to later be accessed, used or altered using that name. For example, writing:\n",
    "\n",
    "```python\n",
    "a=1\n",
    "```\n",
    "\n",
    "creates a variable with the name ```a``` and the value 1. There are many different types of variable in Python, which you'll learn about in a future notebook. Variable names don't need to be a single character but must not contain a space. There are other restrictions that you'll learn about in a future notebook.\n",
    "\n",
    "You can also write:\n",
    "```python\n",
    "var1=var2\n",
    "```\n",
    "which will cause the variable named ```var1``` to become associated with the same information as ```var2```.\n",
    "\n",
    "Code in Python is executed from top to bottom, so you must set a variable using an equals sign before you can use it. For many types of variables, when the name of a variable is written inside a print statement (without quotation marks) the value of that variable will be printed in the output. For example:"
   ]
  },
  {
   "cell_type": "code",
   "execution_count": 10,
   "metadata": {
    "colab": {
     "base_uri": "https://localhost:8080/"
    },
    "executionInfo": {
     "elapsed": 208,
     "status": "ok",
     "timestamp": 1689418992189,
     "user": {
      "displayName": "SM",
      "userId": "11220677222082138407"
     },
     "user_tz": -60
    },
    "id": "WSmss94_tYOW",
    "outputId": "684cd0b7-bf10-4c1b-f43d-402f672fc9bc"
   },
   "outputs": [
    {
     "name": "stdout",
     "output_type": "stream",
     "text": [
      "1\n",
      "bananas\n",
      "bananas\n"
     ]
    }
   ],
   "source": [
    "favourite_number=1\n",
    "favourite_fruit=\"bananas\"\n",
    "favourite_food=favourite_fruit\n",
    "\n",
    "print(favourite_number)\n",
    "print(favourite_fruit)\n",
    "print(favourite_food)"
   ]
  },
  {
   "cell_type": "markdown",
   "metadata": {
    "id": "vB7yqNY4tYOX"
   },
   "source": [
    "###Exercise\n",
    "\n",
    "Now you can write some code which uses variables in the cell below. Use print statements periodically to check the values of your variables.\n",
    "- Create a variable which is a word or phrase (like with the print statements, you must surround the text with single or double quotation marks)\n",
    "- Create a variable which is a negative integer of your choice\n",
    "- Create a variable which is a positive non-integer number\n",
    "- Set the variable which originally contained your word or phrase to be equal to the positive non-integer by referencing the name of that variable"
   ]
  },
  {
   "cell_type": "code",
   "execution_count": 11,
   "metadata": {
    "id": "UepxIFq9tYOY"
   },
   "outputs": [],
   "source": [
    "variable = \"word\"\n",
    "\n",
    "negative = -10\n",
    "positive = 3.42\n",
    "\n",
    "variable = positive"
   ]
  },
  {
   "cell_type": "code",
   "execution_count": 12,
   "metadata": {
    "cellView": "form",
    "id": "rtgN2LTLl956"
   },
   "outputs": [
    {
     "name": "stdout",
     "output_type": "stream",
     "text": [
      "software\n",
      "-3\n",
      "5.2\n",
      "software\n",
      "5.2\n",
      "5.2\n"
     ]
    }
   ],
   "source": [
    "#@title\n",
    "\n",
    "#Create a variable called word containing a word\n",
    "word=\"software\"\n",
    "print(word)\n",
    "\n",
    "#Create a variable called neg contianing a negative integer\n",
    "neg=-3\n",
    "print(neg)\n",
    "\n",
    "#Create a variable called pos containing a positive non-integer\n",
    "pos=5.2\n",
    "print(pos)\n",
    "\n",
    "#Check word contains its original value before changing its value\n",
    "print(word)\n",
    "word=pos\n",
    "print(pos)\n",
    "print(word)"
   ]
  },
  {
   "cell_type": "markdown",
   "metadata": {
    "id": "sc0ayfDTtYOa"
   },
   "source": [
    "## Mathematical Operators\n",
    "There are many operators you can use in Python to manipulate data in different ways. Many work in a similar way that they would do in a mathematical equation.\n",
    "\n",
    "You've already used one operator, the assignment operator \"=\" which sets the value of the variable on the left to be equal to whatever is on the right of it. In this case, what is on the right-hand side of the assignment operator is evaluated before the assignment occurs, meaning that statements like \"a=a+a\" can be valid when they wouldn't be in an algebraic equation.\n",
    "\n",
    "Below are some basic operators for variables containing numerical values\n",
    "\n",
    "| Operator | Effect    |\n",
    "|------|-------|\n",
    "| ```+``` | Adds two numbers together |\n",
    "| ```-``` | Subtracts the number on the right of this operator from the number on the left |\n",
    "| ```*``` | Multiplies two numbers together |\n",
    "| ```/``` | Divides the number on the left of this operator by the number on the right |\n",
    "| ```%``` | Returns the remainder of the number on the left divided by a number of the right |\n",
    "| ```**``` | Raises the number on the left to the power of the number of the number on the right |\n",
    "| ```//``` | Divides the number on the left of this operator by the number on the right and rounds the result down to the nearest integer |\n",
    "\n",
    "Here are some example:"
   ]
  },
  {
   "cell_type": "code",
   "execution_count": 13,
   "metadata": {
    "id": "RkKrUPFOtYOa"
   },
   "outputs": [
    {
     "name": "stdout",
     "output_type": "stream",
     "text": [
      "13\n",
      "7\n",
      "30\n",
      "3.3333333333333335\n",
      "1\n",
      "1000\n",
      "3\n"
     ]
    }
   ],
   "source": [
    "a=10\n",
    "b=3\n",
    "print(a+b)\n",
    "print(a-b)\n",
    "print(a*b)\n",
    "print(a/b)\n",
    "print(a%b)\n",
    "print(a**b)\n",
    "print(a//b)"
   ]
  },
  {
   "cell_type": "markdown",
   "metadata": {
    "id": "XdPa-Nv6tYOc"
   },
   "source": [
    "Note that, in the examples above the value of the code inside the parentheses of each print statement is evaluated (without changing the value of ```a``` or ```b```) and that evaluated value is what's printed.\n",
    "\n",
    "### Order of Operations\n",
    "\n",
    "You can combine multiple operations in a single statement. When doing so, Python will use the normal P-E-DM-AS order of operations. This means operations will be performed in the following order:\n",
    "- Values in parentheses will be calculated first\n",
    "- Exponent calculation will be carried out next (```**```)\n",
    "- Operations related to multiplication and division will be carried out next (```*```, ```/```, ```//```, ```%```)\n",
    "- Addition and subtraction calculated last (```+```, ```-```)\n",
    "\n",
    "For operations in the same tier, Python will perform the operations from left to right.\n",
    "\n",
    "####Exercise\n",
    "\n",
    "For the following examples, write down your prediction of what will be calculated in each print statement before running the examples:"
   ]
  },
  {
   "cell_type": "code",
   "execution_count": 14,
   "metadata": {
    "id": "9COVq6_KtYOd"
   },
   "outputs": [
    {
     "name": "stdout",
     "output_type": "stream",
     "text": [
      "13\n",
      "25\n",
      "1\n",
      "5\n",
      "2\n"
     ]
    }
   ],
   "source": [
    "print(3+2*5)\n",
    "print((3+2)*5)\n",
    "print(10//3**2)\n",
    "print(2+6-3)\n",
    "print(10%3*2)"
   ]
  },
  {
   "cell_type": "markdown",
   "metadata": {
    "id": "i4jiR58etYOe"
   },
   "source": [
    "### Exercise\n",
    "\n",
    "Now, you will need to use some of these operators to calculate various properties in the cell below. Some variables have already been defined for you. The code relates to a number of identical cubes. The variable ```side_length``` refers to the length of the side of a cube in metres and ```n_cube``` refers to the number of cubes. If you want to, you can define new variables to store values you calculate along the way, so you don't have to recalculate them. Using these variables ```side_length``` and ```n_cube``` and the operators above, print the:\n",
    "- Length of all edges of one cube\n",
    "- Area of one face of one cube\n",
    "- Surface area of all faces of one cube\n",
    "- Volume of one cube\n",
    "- Volume of all cubes\n",
    "- Surface area of all cubes\n",
    "- Surface area to volume ratios of the cubes"
   ]
  },
  {
   "cell_type": "code",
   "execution_count": 15,
   "metadata": {
    "id": "ry0w8d73tYOf"
   },
   "outputs": [],
   "source": [
    "side_length=3\n",
    "n_cube=5"
   ]
  },
  {
   "cell_type": "code",
   "execution_count": 16,
   "metadata": {
    "id": "SXymBePdo15o"
   },
   "outputs": [
    {
     "name": "stdout",
     "output_type": "stream",
     "text": [
      "Length of all edges in 1 cube: 3\n",
      "Face area: 9\n",
      "Surface Area of a cube: 54\n",
      "Volume of a cube: 27\n",
      "Volume of all cubes: 135\n",
      "Surface Area of all cubes: 270\n",
      "Surface Area to volume ratio: 54:27\n"
     ]
    }
   ],
   "source": [
    "#@title\n",
    "\n",
    "side_length=3\n",
    "n_cube=5\n",
    "\n",
    "#Calculate the lengths of one edge of one cube\n",
    "\n",
    "print(f\"Length of all edges in 1 cube: {side_length}\")\n",
    "\n",
    "#Calculate the area of one face of one cube\n",
    "\n",
    "print(f\"Face area: {side_length ** 2}\")\n",
    "\n",
    "#Calculate the surface area of all faces of one cube\n",
    "cube_surface_area = 6 * side_length ** 2\n",
    "print(f\"Surface Area of a cube: {6 * side_length ** 2 }\")\n",
    "\n",
    "#Calculate the volume of one cube\n",
    "cube_vol = side_length ** 3\n",
    "print(f\"Volume of a cube: {cube_vol}\")\n",
    "\n",
    "#Calculate the volume of all cubes\n",
    "\n",
    "print(f\"Volume of all cubes: {n_cube * cube_vol}\")\n",
    "\n",
    "#Calculate the surface_area of all cubes\n",
    "print(f\"Surface Area of all cubes: {n_cube * cube_surface_area}\")\n",
    "\n",
    "#Calculate the surface_area to volume ratio of the cubes\n",
    "print(f\"Surface Area to volume ratio: {cube_surface_area}:{cube_vol}\")"
   ]
  },
  {
   "cell_type": "markdown",
   "metadata": {
    "id": "h8V_6psPtYOh"
   },
   "source": [
    "Now, we want to pour a volume of water into some of the cubes, fully filling one cube before moving on to the next. This will lead to a number of full cubes and a partially filled cube. The volume of water (in units of m$^3$) is contained in the variable ```v_water```. You can assume that the last cube will definitely be partially filled. Remember you can use variables defined in previous cells of a Jupyter notebook. Calculate:\n",
    "- The number of the cubes needed to hold the water (this should be an integer)\n",
    "- The amount of space left in the partially full cube after the water has been poured into the cubes"
   ]
  },
  {
   "cell_type": "code",
   "execution_count": 17,
   "metadata": {
    "id": "8OQFh0zHtYOi"
   },
   "outputs": [],
   "source": [
    "v_water=100"
   ]
  },
  {
   "cell_type": "code",
   "execution_count": 20,
   "metadata": {
    "id": "OYPEFT4rrCyK"
   },
   "outputs": [
    {
     "name": "stdout",
     "output_type": "stream",
     "text": [
      "Remaining vol: 19\n",
      "Required cubes: 4\n"
     ]
    }
   ],
   "source": [
    "#@title\n",
    "from math import ceil\n",
    "#Remember to run the example solutions in the code cell above to set the values of variables to be used here\n",
    "\n",
    "v_water=100\n",
    "\n",
    "#Calculate the number of cubes required to contain the water (recalling one will be partially filled)\n",
    "\n",
    "required_cubes = ceil(v_water / cube_vol)\n",
    "\n",
    "\n",
    "\n",
    "#Calculate the volume remaining in the partially filled cube\n",
    "\n",
    "remaining_vol = v_water % cube_vol\n",
    "print(f\"Remaining vol: {remaining_vol}\\nRequired cubes: {required_cubes}\")\n",
    "\n"
   ]
  },
  {
   "cell_type": "markdown",
   "metadata": {
    "id": "eR6c09qJtYOk"
   },
   "source": [
    "To write your code efficiently in the exercises relating to the cubes you will need to use all the operators defined in the table above. If you haven't go back and see where you could use them.\n",
    "\n",
    "## Comments\n",
    "Comments are a very important component of a good piece of code. Comments are pieces of text in the source file which are not processed by the Python interpreter when the code is run. In Python, the remainder of a line following a ```#``` symbol will be ignored. For example:"
   ]
  },
  {
   "cell_type": "code",
   "execution_count": 19,
   "metadata": {
    "id": "2FF9d6QxtYOl"
   },
   "outputs": [
    {
     "name": "stdout",
     "output_type": "stream",
     "text": [
      "4\n"
     ]
    }
   ],
   "source": [
    "#Here I set an important variable a\n",
    "x=4 #4 is a wonderful number\n",
    "\n",
    "#But, in the next line, I don't set it because it's \"commented out\"\n",
    "#x=3\n",
    "\n",
    "#So, here, x will still be 4\n",
    "print(x)"
   ]
  },
  {
   "cell_type": "markdown",
   "metadata": {
    "id": "INPSoJjstYOo"
   },
   "source": [
    "Comments allow you or someone else looking at your code to quickly understand what the code is doing. This makes your code much easier to maintain and debug.\n",
    "\n",
    "###Exercise\n",
    "Go back through the code you've written for the exercises in this notebook and add comments to document what your code is doing."
   ]
  }
 ],
 "metadata": {
  "colab": {
   "provenance": [
    {
     "file_id": "1tnay6EzDWSdrXxerkxcNmIb7OAZ8JsWg",
     "timestamp": 1571059032437
    },
    {
     "file_id": "1cJTIw9QHNQYpJXzGAod6QgZbR3GhPsbl",
     "timestamp": 1571058963795
    },
    {
     "file_id": "10xao4E65BCqKCHeyv5ajwn1q8k21ZF9V",
     "timestamp": 1569486909310
    }
   ]
  },
  "kernelspec": {
   "display_name": "base",
   "language": "python",
   "name": "python3"
  },
  "language_info": {
   "codemirror_mode": {
    "name": "ipython",
    "version": 3
   },
   "file_extension": ".py",
   "mimetype": "text/x-python",
   "name": "python",
   "nbconvert_exporter": "python",
   "pygments_lexer": "ipython3",
   "version": "3.12.4"
  }
 },
 "nbformat": 4,
 "nbformat_minor": 0
}
