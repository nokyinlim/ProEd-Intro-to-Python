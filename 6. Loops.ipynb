{
 "cells": [
  {
   "cell_type": "markdown",
   "metadata": {
    "id": "zjsRpDhQrXWj"
   },
   "source": [
    "# Loops\n",
    "When coding, it's common to want to perform the same operation on a number of different variables. A common way to do this is by using a \"loop\", which allows a loop variable to cycle through a series of other variables and for operations to be carried out while the loop variable has that value."
   ]
  },
  {
   "cell_type": "markdown",
   "metadata": {
    "id": "HEO1ugOKt5fj"
   },
   "source": [
    "## Syntax\n",
    "The easiest way to demonstrate the syntax of a loop in Python is by using an example."
   ]
  },
  {
   "cell_type": "code",
   "execution_count": null,
   "metadata": {
    "id": "FkKF6tIftQay"
   },
   "outputs": [],
   "source": [
    "my_list=[1, 2 , 4, 5]\n",
    "for item in my_list:\n",
    "  print(\"The start of a new iteration of my loop\")\n",
    "  print(item)\n",
    "  a=item+1\n",
    "  print(a)\n",
    "\n",
    "print(\"All done!\")\n",
    "print(\"What shall we do next?\")"
   ]
  },
  {
   "cell_type": "markdown",
   "metadata": {
    "id": "NNYFnoXGth_3"
   },
   "source": [
    "This syntax will work for any iterable type. We begin by making a list, which is an example of an iterable type. We then use the syntax\n",
    "\n",
    "```python\n",
    "for item in my_list:\n",
    "```\n",
    "\n",
    "to declare that we are performing a loop with ```item``` as the loop variable and that we want ```item``` to take the value of each entry in ```my_list``` in turn. The colon at the end of the line signifies that the code we want to be carried out in each iteration of the loop is to follow. This code is marked by the fact that it is indented (use the tab button on your keyboard). All indented code will be carried out from top to bottom for each iteration. Then, the value of ```item``` will be changed to the next value and the indented code will be run again. After the indented section, the code will continue to be carried out in order from top to bottom.\n",
    "\n",
    "### Exercise\n",
    "\n",
    "It's also possible to loop characters in a strings in the same way as you might loop over items in a list. Put an ```if``` statement inside a loop over the variable ```longish_string``` such that you print out the vowels from its value only. Each printed letter may be on a different line of output."
   ]
  },
  {
   "cell_type": "code",
   "execution_count": null,
   "metadata": {
    "id": "b3crrLOdv6TR"
   },
   "outputs": [],
   "source": [
    "longish_string=\"a longish string\""
   ]
  },
  {
   "cell_type": "code",
   "execution_count": null,
   "metadata": {
    "id": "JS-O3RLAJ0uH"
   },
   "outputs": [],
   "source": [
    "#@title\n",
    "\n",
    "longish_string=\"a longish string\"\n",
    "\n",
    "#Start a for loop such that letter will take each letter of longish_string in turn\n",
    "for letter in longish_string:\n",
    "  #Test if the current value of letter is a vowel using \"in\"\n",
    "  if letter in \"aeiou\":\n",
    "    #Print the current value of letter if it's a vowel\n",
    "    print(letter)"
   ]
  },
  {
   "cell_type": "markdown",
   "metadata": {
    "id": "lChEvIVgv6_J"
   },
   "source": [
    "## Modifying the Loop Variable\n",
    "\n",
    "The loop varaible references the same value as the variable contained in the iterable object the loop is iterating over. However, if we assign to the loop variable, we are only affecting the loop variable, not the value stored in the iterable object we are looping over. For example:"
   ]
  },
  {
   "cell_type": "code",
   "execution_count": null,
   "metadata": {
    "id": "p9WuH6Z7uZB6"
   },
   "outputs": [],
   "source": [
    "my_list=[1, 2 , 4, 5]\n",
    "for item in my_list:\n",
    "  item=item+1\n",
    "  print(item)\n",
    "\n",
    "print(my_list)"
   ]
  },
  {
   "cell_type": "markdown",
   "metadata": {
    "id": "XMUKASuTwpJy"
   },
   "source": [
    "Note that the value of ```item``` is changed, but the values stored in ```my_list``` are not.\n",
    "\n",
    "However, if the object associated with the loop variable is mutable, we can modify its value in the object being iterating over. For instance:"
   ]
  },
  {
   "cell_type": "code",
   "execution_count": 5,
   "metadata": {
    "colab": {
     "base_uri": "https://localhost:8080/"
    },
    "executionInfo": {
     "elapsed": 1107,
     "status": "ok",
     "timestamp": 1689420847887,
     "user": {
      "displayName": "SM",
      "userId": "11220677222082138407"
     },
     "user_tz": -60
    },
    "id": "ajYkS_B9xI3G",
    "outputId": "d6ed8312-f9a8-4b2c-bd02-bc2ad0d17dfe"
   },
   "outputs": [
    {
     "name": "stdout",
     "output_type": "stream",
     "text": [
      "[[2, 2, 10], [4, 3, 10]]\n"
     ]
    }
   ],
   "source": [
    "outer_list=[[1,2],[4,3]]\n",
    "\n",
    "for inner_list in outer_list:\n",
    "  inner_list[0]=max(inner_list)\n",
    "  inner_list.append(10)\n",
    "\n",
    "\n",
    "print(outer_list)"
   ]
  },
  {
   "cell_type": "markdown",
   "metadata": {
    "id": "EiiWtIbixYD3"
   },
   "source": [
    "Note that the contents of the object being iterated over is changed. This is because the loop variable is being modified in-place, not having a different object assigned to it."
   ]
  },
  {
   "cell_type": "markdown",
   "metadata": {
    "id": "Q6f7h2xsPUBs"
   },
   "source": [
    "## Range\n",
    "The syntax above is very useful for looping over a pre-existing iterable object. However, sometimes you want to loop over a range of numbers without saving them to a list first. For this, the ```range``` type is very useful. You may create a ```range``` object using the following syntax:\n",
    "\n",
    "```python\n",
    "r=range(start_number, stop_number, step)\n",
    "```\n",
    "\n",
    "In this construction, ```start_number``` gives the first value that will be returned by the range when it is iterated over, ```stop_number``` gives the first number that will not be returned (i.e. the range will stop iterating just before this number) and the ```step``` gives the difference between subsequent returned values.\n",
    "\n",
    "In this construction, both ```start_number``` and ```step``` are optional.\n",
    "\n",
    "If one argument is given, it will be assumed to be the ```stop_number```. The ```start_number``` will be taken to be 0 and the ```step``` will be 1.\n",
    "\n",
    "If twoa arguments are given, the first will be the ```start_number``` and the second will be the ```stop_number``` and the ```step``` will be 1."
   ]
  },
  {
   "cell_type": "code",
   "execution_count": null,
   "metadata": {
    "id": "FdKEbUoiQCW8"
   },
   "outputs": [],
   "source": [
    "r=range(0, 10, 2)\n",
    "print(type(r))"
   ]
  },
  {
   "cell_type": "markdown",
   "metadata": {
    "id": "1P-34GNphq8P"
   },
   "source": [
    "To actually use a ```range``` in a loop, we use it in the place where we previous put the list in the ```for``` loop as we want to iterate over it. Thus, we may write:\n",
    "\n",
    "```python\n",
    "r=range(0,10,1)\n",
    "for i in r:\n",
    "  [do stuff with i]\n",
    "```\n",
    "\n",
    "or\n",
    "\n",
    "```python\n",
    "for i in range(0,10,1):\n",
    "  [do stuff with i]\n",
    "```\n",
    "For example:\n",
    "\n"
   ]
  },
  {
   "cell_type": "code",
   "execution_count": null,
   "metadata": {
    "id": "3H-tCn4stEJH"
   },
   "outputs": [],
   "source": [
    "for i in range(0,5,1):\n",
    "  print(i)"
   ]
  },
  {
   "cell_type": "markdown",
   "metadata": {
    "id": "dPw-4NRWuzoZ"
   },
   "source": [
    "Note that, as the loop variable does not progress to the ```stop_number``` it is not printed.\n",
    "\n",
    "### Exercise\n",
    "\n",
    "Use a ```range``` and a ```for``` loop to calculate the following value:\n",
    "\n",
    "$\\sum\\limits_{x=0}^{100}x^{2}$\n",
    "\n",
    "The final value you should get is 338,350.\n"
   ]
  },
  {
   "cell_type": "code",
   "execution_count": 5,
   "metadata": {
    "id": "jsd0TzDjLZ2J"
   },
   "outputs": [
    {
     "name": "stdout",
     "output_type": "stream",
     "text": [
      "338350\n"
     ]
    }
   ],
   "source": [
    "#@title\n",
    "\n",
    "#We're going to loop over the values that x might take and add the square of them to the variable \"result\" which will keep a running total\n",
    "#Initially set x to zero\n",
    "result=0\n",
    "\n",
    "#Loop over the values 0-100 (recall that the stop_number is the first number not included)\n",
    "for i in range(101):\n",
    "  #Add the square of the current value of x to the running total\n",
    "  result += i ** 2\n",
    "  # print(result, \"Added\", i**2)\n",
    "\n",
    "#Print the final result\n",
    "print(result)"
   ]
  },
  {
   "cell_type": "markdown",
   "metadata": {
    "id": "XGSu66SqN8Dn"
   },
   "source": [
    "## Extension: Nested Loops\n",
    "Like many constructs marked by indentations in Python, it is possible to \"nest\" loops to have a loop within a loop. This is done by double-indenting the contents of the inner loop. This looks like:\n",
    "\n",
    "```python\n",
    "for i in range(0,10,1):\n",
    "  for j in range(0,5,1):\n",
    "    print(i*j)\n",
    "```\n",
    "\n",
    "### Exercise\n",
    "Look at the code below and see if you can work out what its output will look like before running it:"
   ]
  },
  {
   "cell_type": "code",
   "execution_count": 6,
   "metadata": {
    "colab": {
     "base_uri": "https://localhost:8080/"
    },
    "executionInfo": {
     "elapsed": 327,
     "status": "ok",
     "timestamp": 1689420902904,
     "user": {
      "displayName": "SM",
      "userId": "11220677222082138407"
     },
     "user_tz": -60
    },
    "id": "INalVsW5OoCb",
    "outputId": "a7dc1d50-642f-4a4e-bb32-1818b8d747aa"
   },
   "outputs": [
    {
     "name": "stdout",
     "output_type": "stream",
     "text": [
      "360\n"
     ]
    }
   ],
   "source": [
    "my_list=[[1,3],[4,6],[8,1]]\n",
    "\n",
    "result=1\n",
    "\n",
    "for inner in my_list:\n",
    "  current=0\n",
    "  for number in inner:\n",
    "    current=current+number\n",
    "  result=result*current\n",
    "\n",
    "print(result)"
   ]
  },
  {
   "cell_type": "markdown",
   "metadata": {
    "id": "np9NRVcPZl6p"
   },
   "source": [
    "## Extension: Loop Control Using Conditionals\n",
    "It's possible to gain more control over a loop using conditionals and the ```break``` and ```continue``` statements.\n",
    "\n",
    "Writing the word ```break``` in a loop with cause that loop to exit. If the ```break``` statement is within multiple nested loops, only the inner-most (most indented) loop will be broken out of.\n",
    "\n",
    "Writing the word ```continue``` means the remainder of the indented content of a loop will not be executed and the next iteration will begins immediately.\n",
    "\n",
    "By placing ```break``` and ```continue``` statements within conditionals within a loop, it's possible to control exactly which parts of the loop are executed and when the loop terminates.\n",
    "\n",
    "For example, consider this code designed to find the smallest number which is divisible by every number between 1 and 6:"
   ]
  },
  {
   "cell_type": "code",
   "execution_count": null,
   "metadata": {
    "id": "PQI6c-aTZnQa"
   },
   "outputs": [],
   "source": [
    "#We only need consider numbers up to 6! as we know 6! will have this property. Loop over all these candidate numbers\n",
    "for candidate in range(1, 2*3*4*5*6+1):\n",
    "\n",
    "  #Create a variable to check if this candidate fulfils our conditions. Assume it is, until we know better.\n",
    "  fits_criteria=True\n",
    "\n",
    "  #Loop over all the numbers from 1 to 6 to see if the candidate divides by them using the modulo function\n",
    "  for divisor in range(1,7):\n",
    "\n",
    "    if candidate%divisor!=0:\n",
    "      #If the candidate is not divisible by our divisor it does not fit our conditions, so note this and beak out of this inner loop.\n",
    "      fits_criteria=False\n",
    "      break\n",
    "\n",
    "  if not fits_criteria:\n",
    "    #If the candidate does not fit the criteria then continue to the next candidate\n",
    "    print(\"The number \"+str(candidate)+\" does not fit the criteria. Trying the next number.\")\n",
    "    continue\n",
    "\n",
    "  #If the loop reaches this point, it is because the candidate fits our criteria. Print the number and then print it and break out of the loop to avoid checking other numbers\n",
    "  print(\"The number \"+str(candidate)+\" is divisible by the numbers 1-6. Stopping the search.\")\n",
    "  break"
   ]
  },
  {
   "cell_type": "markdown",
   "metadata": {
    "id": "548RkiotZpyf"
   },
   "source": [
    "### Extension Exercise\n",
    "Construct a program below which will print all the prime numbers below 100. You do not need to print a message when a number is not prime. Hint: you may want to use the modulo (```%```) function, nested loops and an ```if``` statement."
   ]
  },
  {
   "cell_type": "code",
   "execution_count": 10,
   "metadata": {},
   "outputs": [
    {
     "name": "stdout",
     "output_type": "stream",
     "text": [
      "02 is a prime number\n",
      "03 is a prime number\n",
      "05 is a prime number\n",
      "07 is a prime number\n",
      "11 is a prime number\n",
      "13 is a prime number\n",
      "17 is a prime number\n",
      "19 is a prime number\n",
      "23 is a prime number\n",
      "29 is a prime number\n",
      "31 is a prime number\n",
      "37 is a prime number\n",
      "41 is a prime number\n",
      "43 is a prime number\n",
      "47 is a prime number\n",
      "53 is a prime number\n",
      "59 is a prime number\n",
      "61 is a prime number\n",
      "67 is a prime number\n",
      "71 is a prime number\n",
      "73 is a prime number\n",
      "79 is a prime number\n",
      "83 is a prime number\n",
      "89 is a prime number\n",
      "97 is a prime number\n"
     ]
    }
   ],
   "source": [
    "\n",
    "print(\"02 is a prime number\")\n",
    "# skip all even numbers\n",
    "for i in range(3, 100, 2):\n",
    "    prime = True\n",
    "    for j in range(2, i):\n",
    "        # Prime numbers have exactly 2 factors; 1 & itself\n",
    "        # in this loop we skip 1 by starting at 2;\n",
    "        # and skip itself by ending 1 before reaching i\n",
    "        if i % j == 0:\n",
    "            prime = False\n",
    "            break # exit loop\n",
    "    if prime:\n",
    "        print(f\"{i:0>2} is a prime number\")\n",
    "\n"
   ]
  }
 ],
 "metadata": {
  "colab": {
   "provenance": [
    {
     "file_id": "1uV2tPw65a6vJz64wu5r6GLkHmw1k-3EB",
     "timestamp": 1571320312838
    }
   ]
  },
  "kernelspec": {
   "display_name": "base",
   "language": "python",
   "name": "python3"
  },
  "language_info": {
   "codemirror_mode": {
    "name": "ipython",
    "version": 3
   },
   "file_extension": ".py",
   "mimetype": "text/x-python",
   "name": "python",
   "nbconvert_exporter": "python",
   "pygments_lexer": "ipython3",
   "version": "3.12.4"
  }
 },
 "nbformat": 4,
 "nbformat_minor": 0
}
