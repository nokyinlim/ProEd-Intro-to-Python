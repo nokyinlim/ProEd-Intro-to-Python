{
 "cells": [
  {
   "cell_type": "markdown",
   "metadata": {
    "id": "5YCvNwwGEfkn"
   },
   "source": [
    "#Error Messages and Exceptions\n",
    "\n",
    "Python is normally an interpreted language. This means that code will only be parsed (read by python) as it is run. Some environments will highlighted code with incorrect syntax or other potential problems before the code is run. This is called \"linting\". However, the main way you will find out if a section of your code has a problem is when the code is run.\n",
    "\n",
    "You've probably already seen some error messages, but in this notebook you'll learn a little more about them, how to deal with them and (in the extension) how to raise your own exceptions and use them in your program."
   ]
  },
  {
   "cell_type": "markdown",
   "metadata": {
    "id": "WEuSL5vQibn2"
   },
   "source": [
    "## The Anatomy of an Error\n",
    "When a piece of Python code executes in a way that breaks a rule of that piece of code, Python will raise an \"exception\". This means that, unless the error is \"handled\" (more on this later), the immediate piece of code running will cease and control will revert to the calling piece of code. If the error is not handled in that piece of code, it will also stop running and control will revert to the calling piece of code and so on. If you haven't used any error-handling, this means your entire code will stop running. This reversion of control to higher and higher level pieces of code is why it is called \"raising\" and error.\n",
    "\n",
    "Let's try an example of that with this simple example:"
   ]
  },
  {
   "cell_type": "code",
   "execution_count": null,
   "metadata": {
    "colab": {
     "base_uri": "https://localhost:8080/",
     "height": 310
    },
    "executionInfo": {
     "elapsed": 5,
     "status": "error",
     "timestamp": 1689425656885,
     "user": {
      "displayName": "SM",
      "userId": "11220677222082138407"
     },
     "user_tz": -60
    },
    "id": "fB_Urof8kQay",
    "outputId": "6c662e2a-cad8-403d-a999-2a797484a7ee"
   },
   "outputs": [
    {
     "ename": "ZeroDivisionError",
     "evalue": "ignored",
     "output_type": "error",
     "traceback": [
      "\u001b[0;31m---------------------------------------------------------------------------\u001b[0m",
      "\u001b[0;31mZeroDivisionError\u001b[0m                         Traceback (most recent call last)",
      "\u001b[0;32m<ipython-input-1-868d40271458>\u001b[0m in \u001b[0;36m<cell line: 4>\u001b[0;34m()\u001b[0m\n\u001b[1;32m      2\u001b[0m   \u001b[0;32mreturn\u001b[0m\u001b[0;34m(\u001b[0m\u001b[0ma\u001b[0m\u001b[0;34m/\u001b[0m\u001b[0mb\u001b[0m\u001b[0;34m)\u001b[0m\u001b[0;34m\u001b[0m\u001b[0;34m\u001b[0m\u001b[0m\n\u001b[1;32m      3\u001b[0m \u001b[0;34m\u001b[0m\u001b[0m\n\u001b[0;32m----> 4\u001b[0;31m \u001b[0mprint\u001b[0m\u001b[0;34m(\u001b[0m\u001b[0mdivide\u001b[0m\u001b[0;34m(\u001b[0m\u001b[0;36m10\u001b[0m\u001b[0;34m,\u001b[0m\u001b[0;36m0\u001b[0m\u001b[0;34m)\u001b[0m\u001b[0;34m)\u001b[0m\u001b[0;34m\u001b[0m\u001b[0;34m\u001b[0m\u001b[0m\n\u001b[0m",
      "\u001b[0;32m<ipython-input-1-868d40271458>\u001b[0m in \u001b[0;36mdivide\u001b[0;34m(a, b)\u001b[0m\n\u001b[1;32m      1\u001b[0m \u001b[0;32mdef\u001b[0m \u001b[0mdivide\u001b[0m\u001b[0;34m(\u001b[0m\u001b[0ma\u001b[0m\u001b[0;34m,\u001b[0m\u001b[0mb\u001b[0m\u001b[0;34m)\u001b[0m\u001b[0;34m:\u001b[0m\u001b[0;34m\u001b[0m\u001b[0;34m\u001b[0m\u001b[0m\n\u001b[0;32m----> 2\u001b[0;31m   \u001b[0;32mreturn\u001b[0m\u001b[0;34m(\u001b[0m\u001b[0ma\u001b[0m\u001b[0;34m/\u001b[0m\u001b[0mb\u001b[0m\u001b[0;34m)\u001b[0m\u001b[0;34m\u001b[0m\u001b[0;34m\u001b[0m\u001b[0m\n\u001b[0m\u001b[1;32m      3\u001b[0m \u001b[0;34m\u001b[0m\u001b[0m\n\u001b[1;32m      4\u001b[0m \u001b[0mprint\u001b[0m\u001b[0;34m(\u001b[0m\u001b[0mdivide\u001b[0m\u001b[0;34m(\u001b[0m\u001b[0;36m10\u001b[0m\u001b[0;34m,\u001b[0m\u001b[0;36m0\u001b[0m\u001b[0;34m)\u001b[0m\u001b[0;34m)\u001b[0m\u001b[0;34m\u001b[0m\u001b[0;34m\u001b[0m\u001b[0m\n",
      "\u001b[0;31mZeroDivisionError\u001b[0m: division by zero"
     ]
    }
   ],
   "source": [
    "def divide(a,b):\n",
    "  return(a/b)\n",
    "\n",
    "print(divide(10,0))"
   ]
  },
  {
   "cell_type": "markdown",
   "metadata": {
    "id": "W3bPuCx4kcwf"
   },
   "source": [
    "We see that the first line says \"ZeroDivisionError\". This is the type of exception that's been raised (see the next section for more details) and gives us a rough idea of what's happened.\n",
    "\n",
    "The message then provides a \"Traceback\". This shows us the path through the code that the exception has been raised through. We see here that it was raised in line 4 where we tried to print the result of our function ```divide```. The next part of the message tells us that the exception came from the ```divide``` function. Next, it shows which line it came from: it's line 2 where we return the result of ```a``` divided by ```b```. Finally it tells us the type of the exception again and a short description: \"division by zero\". So it seems that we've divided by zero and the division operator in Python has raised an exception as this operation produces an undefined result for a denominator of zero.\n",
    "\n",
    "By examining the error message in this way it's possible to understand where an error message has come from and roughly what has caused it, even in a large and complex program. This gives you the basic information you need to start working out how to fix the problem.\n",
    "\n",
    "It's worth remembering that exceptions will only be raised if the code you've written breaks a rule of Python. Exceptions will not be raised if you're code is syntactically valid and no values of variables during execution cause an exception to be raised, your code will run. This is no guarantee that the code does what you want or intend it to. This is the area of debugging and is worthy of a course in itself."
   ]
  },
  {
   "cell_type": "markdown",
   "metadata": {
    "id": "40kLC2Go1xQD"
   },
   "source": [
    "## Types of Exception\n",
    "There are many types of exception. A full list of exceptions may be found in the [Python Documentation](https://docs.python.org/3/library/exceptions.html).\n",
    "\n",
    "This section will give a brief description of an number of errors and some sample code used to generate them. This list is non-exhaustive, but will give you a good start at understanding where errors come from and how to fix them."
   ]
  },
  {
   "cell_type": "markdown",
   "metadata": {
    "id": "L8ffT80imgtb"
   },
   "source": [
    "### ```AttributeError```\n",
    "\n",
    "An ```AttributeError``` is raised when you attempt to access an attribute of a variable that it doesn't have using the ```varaiable_name.attribute_name``` syntax, such as in the ```[list_variable].append()``` method.\n",
    "\n",
    "As an example, the ```int``` type does not have an attribute called ```isprime``` so the following raises an ```AttributeError```:"
   ]
  },
  {
   "cell_type": "code",
   "execution_count": null,
   "metadata": {
    "id": "oVpWopxfo4kL"
   },
   "outputs": [],
   "source": [
    "a=1\n",
    "b=a.isprime"
   ]
  },
  {
   "cell_type": "markdown",
   "metadata": {
    "id": "TGs3Jom5pCHO"
   },
   "source": [
    "### ```ModuleNotFoundError```\n",
    "This is the type of error that will be raised when you attempt to import a module that isn't available to the code. This will occur id it's not in your version of Python, any installed packages or in any of the places you've told Python to look for modules you've written yourself.\n",
    "\n",
    "For example:"
   ]
  },
  {
   "cell_type": "code",
   "execution_count": null,
   "metadata": {
    "id": "9aTi6r1wpIsk"
   },
   "outputs": [],
   "source": [
    "import module_that_doesnt_exist"
   ]
  },
  {
   "cell_type": "markdown",
   "metadata": {
    "id": "RBGULhztp2U4"
   },
   "source": [
    "### ```IndexError```\n",
    "An ```IndexError``` is raised when a sequence subscript is out of range. The most common place this happens is when you try to use an index for a list but the list doesn't have an item corresponding to that index because the list is too short. For example:"
   ]
  },
  {
   "cell_type": "code",
   "execution_count": null,
   "metadata": {
    "id": "ZEcMimvvqdqP"
   },
   "outputs": [],
   "source": [
    "my_list=[1,3,4]\n",
    "print(my_list[3])"
   ]
  },
  {
   "cell_type": "markdown",
   "metadata": {
    "id": "jdv-6C1hqpfs"
   },
   "source": [
    "### ```KeyError```\n",
    "A ```KeyError``` is raised a key is used with a dictionary but the dictionary doesn't have a corresponding key. For example:"
   ]
  },
  {
   "cell_type": "code",
   "execution_count": null,
   "metadata": {
    "id": "cHodS7IFq3Kq"
   },
   "outputs": [],
   "source": [
    "my_dict={\"a\":1, \"b\":2}\n",
    "print(my_dict[\"termites\"])"
   ]
  },
  {
   "cell_type": "markdown",
   "metadata": {
    "id": "lfJyWhUMrDU2"
   },
   "source": [
    "### ```NameError```\n",
    "\n",
    "A ```NameError``` is raised when you attempted to access a variable, function, etc using a name that isn't defined. For example:"
   ]
  },
  {
   "cell_type": "code",
   "execution_count": null,
   "metadata": {
    "id": "9X8xucvtsvXk"
   },
   "outputs": [],
   "source": [
    "print(variable_name_i_havent_defined_yet)"
   ]
  },
  {
   "cell_type": "markdown",
   "metadata": {
    "id": "Uru_IleUs0PA"
   },
   "source": [
    "### ```SyntaxError```\n",
    "A ```SyntaxError``` is raised when a piece of code doesn't make syntactic sense. For example:"
   ]
  },
  {
   "cell_type": "code",
   "execution_count": null,
   "metadata": {
    "id": "kklDGhd2u-S5"
   },
   "outputs": [],
   "source": [
    "3=a"
   ]
  },
  {
   "cell_type": "markdown",
   "metadata": {
    "id": "eOLZSLaZwlnX"
   },
   "source": [
    "### ```TypeError```\n",
    "A ```TypeError``` is raised when an operation is used on a function is called with arguments which are the wrong type. For example:"
   ]
  },
  {
   "cell_type": "code",
   "execution_count": null,
   "metadata": {
    "id": "gS3QX1nZ1Lth"
   },
   "outputs": [],
   "source": [
    "print(\"A string\"+3)"
   ]
  },
  {
   "cell_type": "markdown",
   "metadata": {
    "id": "OdiJGSpU1QLe"
   },
   "source": [
    "or:"
   ]
  },
  {
   "cell_type": "code",
   "execution_count": null,
   "metadata": {
    "id": "37EkVFDx1TH8"
   },
   "outputs": [],
   "source": [
    "import math\n",
    "print(math.sqrt(\"a string\"))"
   ]
  },
  {
   "cell_type": "markdown",
   "metadata": {
    "id": "E-qA_sw04uNO"
   },
   "source": [
    "### ```ValueError```\n",
    "A ```ValueError``` will be raised when a variable of the right type is provided, but the value is not appropriate for the operation/function call. For example:"
   ]
  },
  {
   "cell_type": "code",
   "execution_count": null,
   "metadata": {
    "id": "pqPwurOa45Ll"
   },
   "outputs": [],
   "source": [
    "math.sqrt(-1)"
   ]
  },
  {
   "cell_type": "markdown",
   "metadata": {
    "id": "jZjid_191sTQ"
   },
   "source": [
    "### ```ZeroDivisionError```\n",
    "A ```ZeroDivisionError``` will be raised when the denominator of a division is zero or the second argument of a modulo operation is zero. For example:"
   ]
  },
  {
   "cell_type": "code",
   "execution_count": null,
   "metadata": {
    "id": "e1C9kFo55W9k"
   },
   "outputs": [],
   "source": [
    "print(4%0)"
   ]
  },
  {
   "cell_type": "markdown",
   "metadata": {
    "id": "RK3FIZA7D2dL"
   },
   "source": [
    "### Exercise\n",
    "The below section of code is designed to define a function which takes a list of numbers and return their mean and standard deviation as a tuple. It then calls the code with two different lists and prints their mean and standard deviation to the screen. However, the code contains many errors. Run the code, read the error messages that follow and fix the code.\n",
    "\n",
    "The corrected code is in a collapsed code cell below it. Don't expand it until you've corrected your code and then check your answer."
   ]
  },
  {
   "cell_type": "code",
   "execution_count": 1,
   "metadata": {
    "colab": {
     "base_uri": "https://localhost:8080/"
    },
    "executionInfo": {
     "elapsed": 3,
     "status": "ok",
     "timestamp": 1690279117392,
     "user": {
      "displayName": "SM",
      "userId": "11220677222082138407"
     },
     "user_tz": -60
    },
    "id": "Jgc72l8yFPlC",
    "outputId": "243f9645-4818-43d6-a962-8562c7340075"
   },
   "outputs": [
    {
     "name": "stdout",
     "output_type": "stream",
     "text": [
      "(9.0, 7.106335201775948)\n",
      "(326.25, 395.05339828939583)\n"
     ]
    }
   ],
   "source": [
    "#@title\n",
    "\n",
    "import math\n",
    "\n",
    "def mean_sd(list_in):\n",
    "  #We will keep a running total of the total value of the numbers and the total of the square of the numbers\n",
    "  total=0\n",
    "  total_square=0\n",
    "\n",
    "  #Here, we calculate these totals\n",
    "  for item in list_in:\n",
    "    total=total+item\n",
    "    total_square=total_square+item**2\n",
    "\n",
    "  #Calculate the mean and standard deviation\n",
    "  mean=total/len(list_in)\n",
    "  sd=math.sqrt(total_square/len(list_in)-mean**2)\n",
    "\n",
    "  #Return these values\n",
    "  return((mean, sd))\n",
    "\n",
    "#Test the code with some sample values\n",
    "print(mean_sd([1, 5, 10, 20]))\n",
    "print(mean_sd([100, 200, 5, 1000]))"
   ]
  },
  {
   "cell_type": "markdown",
   "metadata": {
    "id": "Wk5BqwBL5p6C"
   },
   "source": [
    "## Error Handling\n",
    "When an exception is raised, it may be \"handled\". This is done by placing the piece of code you think may raise an exception within a ```try``` block. This has the syntax:\n",
    "\n",
    "```python\n",
    "try:\n",
    "  [Code to be run]\n",
    "except[Exception Type 1]:\n",
    "  [Code responding to Exception Type 1]\n",
    "except[Exception Type 2]:\n",
    "  [Code responding to Exception Type 2]\n",
    "      .\n",
    "      .\n",
    "      .\n",
    "finally:\n",
    "  [This code will always be executed]\n",
    "  ```\n",
    "As an example:"
   ]
  },
  {
   "cell_type": "code",
   "execution_count": null,
   "metadata": {
    "id": "oTQDV-i685bt"
   },
   "outputs": [],
   "source": [
    "def divide(a, b):\n",
    "  try:\n",
    "    print(a/b)\n",
    "  except ZeroDivisionError:\n",
    "    print(\"You can't divide by zero! You'll doom us all!\")\n",
    "  finally:\n",
    "    print(\"Division complete\")\n",
    "\n",
    "divide(10,2)\n",
    "\n",
    "print(\"Let's try the next call\")\n",
    "\n",
    "divide(10,0)"
   ]
  },
  {
   "cell_type": "markdown",
   "metadata": {
    "id": "-aha-_xJ9q5D"
   },
   "source": [
    "Error handling in this way can help your code deal with different cases where your default attempt at how to deal with a situation may not work but you have an alternative method to deal with that situation. Alterantively, you could use the opportunity to give a more useful error message, as above.\n",
    "\n",
    "In many cases, it's possible to use an ```if``` statement instead of error handling to control the flow of the code. In the example above, we have used the code:\n",
    "\n",
    "```python\n",
    "def divide(a, b):\n",
    "  if (b!=0)\n",
    "    print(a/b)\n",
    "  else:\n",
    "    print(\"You can't divide by zero! You'll doom us all!\")\n",
    "  \n",
    "  print(\"Division complete\")\n",
    "```\n",
    "    \n",
    "Often this will be a clearer way to handle the normal flow of a program. But exception handling can be very useful for handling exceptional circumstances gracefully that would otherwise break your code in a way that would be difficult to diagnose or understand.\n",
    "\n",
    "\n",
    "### Exercise\n",
    "In the code block below, write a solver for the quadratic equation which accepts the arguments ```a```, ```b``` and ```c``` for the quadratic and linear coefficients and the constant respectively. This defines that you are solving the equation:\n",
    "\n",
    "$ax^{2}+bx+c=0$\n",
    "\n",
    "The solution to this equation is:\n",
    "\n",
    "$x=\\frac{-b\\pm\\sqrt{b^{2}-4ac}}{2a}$\n",
    "\n",
    "This equation will either have two real roots, one root, or two imaginary roots. The roots should be returned as a list. You may assume that either $a$ or $b$ is non-zero.\n",
    "\n",
    "In your code, first use an ```if``` statement to see if the discriminant ${b^{2}-4ac}$ is zero and the equation has a single root.\n",
    "\n",
    "Then, put the above equation in a ```try``` block with one ```except``` clause. This should catch when a=0 and return a single root for $x$.\n",
    "\n",
    "If the discriminant is negtaive, your function should raise an Exception that is not caught by your ```try``` block.\n",
    "\n",
    "Any roots returned should be returned in a list\n",
    "\n",
    "Your solver should work for the following sets of values:\n",
    "\n",
    "|||||\n",
    "|-|-|-|-|\n",
    "| |a|b|c|\n",
    "| Case 1 | 2 | -5 | -12 |\n",
    "| Case 2 | -2 | -4 | -2 |\n",
    "| Case 3 | 0 | 1 | 2 |\n",
    "| Case 3 | 1 | 1 | 1 |"
   ]
  },
  {
   "cell_type": "code",
   "execution_count": null,
   "metadata": {
    "id": "bpZB9OkvFSlL"
   },
   "outputs": [],
   "source": []
  },
  {
   "cell_type": "code",
   "execution_count": null,
   "metadata": {
    "id": "lB_DVeKDXbFs"
   },
   "outputs": [],
   "source": [
    "#@title\n",
    "\n",
    "#Import the math module\n",
    "import math\n",
    "\n",
    "#Define the function\n",
    "def solve_quadratic(a, b, c)\n",
    "  #Calcualte the discriminant\n",
    "\n",
    "\n",
    "  #If the discriminant is zero, return one root\n",
    "\n",
    "    #We can assume that a is not zero here as we were told we could assume at least one of a and b is non-zero and, if a were zero, b would have to be zero to return a discriminant of zero\n",
    "\n",
    "\n",
    "\n",
    "    #Try to return two roots\n",
    "  #Catch the case where a is zero\n",
    "    #If a is zero, the result should be -c/b\n",
    "  #If a ValueError exception is raised from taking the square root of a negative discriminant, it will be passed back to wherever the function was called from.\n",
    "\n",
    "#Test with some values\n",
    "\n",
    "\n"
   ]
  },
  {
   "cell_type": "markdown",
   "metadata": {
    "id": "eytyrfB_Tuc3"
   },
   "source": [
    "### Extension Exercise\n",
    "\n",
    "Copy your code from the previous exercise. Add another ```except``` statement to your ```try``` block such that it catches the exception raised by a negative dicriminant such that your function returns two complex roots in this case."
   ]
  },
  {
   "cell_type": "markdown",
   "metadata": {
    "id": "yG-XKuDkFS8q"
   },
   "source": [
    "## Extension: Raising Exceptions\n",
    "You may also raise exceptions within your code. This is achieved using the syntax:\n",
    "\n",
    "```python\n",
    "raise(ExceptionType(\"Error message\"))\n",
    "\n",
    "For example:"
   ]
  },
  {
   "cell_type": "code",
   "execution_count": null,
   "metadata": {
    "id": "3Id2m2I2Fu4E"
   },
   "outputs": [],
   "source": [
    "import math\n",
    "\n",
    "def find_hypotenuse(length1, length2):\n",
    "  #This function finds the hypotenuse of a right-angled triangel given the length of its other two sides\n",
    "\n",
    "  if length1<0 or length2<0:\n",
    "    raise ValueError(\"Both lengths must be non-negative\")\n",
    "  else:\n",
    "    return(math.sqrt(length1**2+length2**2))\n",
    "\n",
    "print(find_hypotenuse(3,4))\n",
    "print(find_hypotenuse(-3,4))\n"
   ]
  },
  {
   "cell_type": "markdown",
   "metadata": {
    "id": "IwB1FGu2JA3s"
   },
   "source": [
    "### Exercise\n",
    "In the previous exercise you were assumed that either $a$ or $b$ were non-zero. If they are both zero, the value $x$ is undefined. Copy your code from your previous example into the code cell below and add to so an exception is raised if $x$ is undefined."
   ]
  },
  {
   "cell_type": "code",
   "execution_count": null,
   "metadata": {
    "id": "ENWD12SYJUgI"
   },
   "outputs": [],
   "source": []
  },
  {
   "cell_type": "code",
   "execution_count": null,
   "metadata": {
    "id": "DTmLA8cKaNgD"
   },
   "outputs": [],
   "source": [
    "#@title\n",
    "\n",
    "#Import the math module\n",
    "import math\n",
    "\n",
    "#Define the function\n",
    "  #Check if both a and b are zero\n",
    "\n",
    "  #Calcualte the discriminant\n",
    "\n",
    "  #If the discriminant is zero, return one root\n",
    "    #We can assume that a is not zero here as we were told we could assume at least one of a and b is non-zero and, if a were zero, b would have to be zero to return a discriminant of zero\n",
    "\n",
    "    #Try to return two roots\n",
    "  #Catch the case where a is zero\n",
    "\n",
    "    #If a is zero, the result should be -c/b\n",
    "\n",
    "  #If a ValueError exception is raised from taking the square root of a negative discriminant, it will be passed back to wherever the function was called from.\n",
    "\n",
    "#Test with a case where a and b are both zero\n"
   ]
  }
 ],
 "metadata": {
  "colab": {
   "provenance": [
    {
     "file_id": "1SoRRby7a1aRwggFEHG_WPqIw0UTof7Bu",
     "timestamp": 1571410487759
    }
   ]
  },
  "kernelspec": {
   "display_name": "base",
   "language": "python",
   "name": "python3"
  },
  "language_info": {
   "codemirror_mode": {
    "name": "ipython",
    "version": 3
   },
   "file_extension": ".py",
   "mimetype": "text/x-python",
   "name": "python",
   "nbconvert_exporter": "python",
   "pygments_lexer": "ipython3",
   "version": "3.12.4"
  }
 },
 "nbformat": 4,
 "nbformat_minor": 0
}
