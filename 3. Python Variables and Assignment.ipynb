{
 "cells": [
  {
   "cell_type": "markdown",
   "metadata": {
    "id": "xQIJl7RyQQDD"
   },
   "source": [
    "# Variables and Assignment"
   ]
  },
  {
   "cell_type": "markdown",
   "metadata": {
    "id": "j5dcoXiKQVAK"
   },
   "source": [
    "##Introduction\n",
    "\n",
    "In all coding languages, a variable is a piece of information that is labelled with a name in the source code which allows it to be read from, accessed or altered."
   ]
  },
  {
   "cell_type": "markdown",
   "metadata": {
    "id": "EUdmV4XIyD8r"
   },
   "source": [
    "## Variable Names\n",
    "In Python there are restrictions on the name of variables. These include:\n",
    "- Variable names must start with a letter or the underscore character ```_```\n",
    "- Variable names can only contain alphanumeric characters and the underscore character (e.g. ```a```-```z```, ```A```-```Z```, ```0-9``` and ```_```)\n",
    "- Variable names are case sensitive (e.g ```x1``` is a different name to ```X1``` and variables with both names may exist at the same time)\n",
    "- Variable names may not use reserved keywords which typically have a special function in the language\n",
    "\n",
    "The full list of reserved keywords in Python 3 is:\n",
    "\n",
    "||||||\n",
    "|-|-|-|-|-|\n",
    "| and | except | lambda | with | as|\n",
    "| finally | nonlocal | while | assert | False |\n",
    "| None | yield | break | for | not |\n",
    "| class | from | or | continue | global |\n",
    "| pass | def | if | raise | del |\n",
    "| import | return | elif | in | True |\n",
    "| else | is | try| | |\n",
    "\n",
    "Fortunately, most places you might write Python code, including Jupyter notebooks, will highlight whenever you use a restricted keyword. This means you don't have to remember the whole list."
   ]
  },
  {
   "cell_type": "markdown",
   "metadata": {
    "id": "5aY1K6JyQZkS"
   },
   "source": [
    "## Assigning to Variables\n",
    "\n",
    "To use a variable it must first be \"assigned\". If it is not then, when we try to use it, Python will not recognise it as a registered variable and an error will be created and the code will stop running. For example:"
   ]
  },
  {
   "cell_type": "code",
   "execution_count": null,
   "metadata": {
    "id": "zcZ-mcYyyD8s"
   },
   "outputs": [],
   "source": [
    "print(a)\n",
    "print(\"This print statement will never be reached\")\n",
    "a=1"
   ]
  },
  {
   "cell_type": "markdown",
   "metadata": {
    "id": "a3hOUtmmyD8v"
   },
   "source": [
    "In this example, Python gives a useful error message, telling us it doesn't know what to do with the name ```a```. This is because we haven't defined it before the ```print``` statement. In Python, variables may be defined by assigning to them using the operator ```=```. This does not behave the same as an equals sign in an equation. Instead, what it means is \"calculate the value on the right hand side, then save it to the variable named on the left hand-side. This means the following is invalid in Python:\n",
    "```python\n",
    "3=x\n",
    "```\n",
    "even though it's a valid algebraic expression. Meanwhile, the following is valid in Python:\n",
    "```python\n",
    "x=x+x\n",
    "```\n",
    "despite this only being true for $x=0$ algebraically.\n",
    "\n",
    "In Python, you may repeatedly assign to the same variable, even using different types of data (this is notable as it is not the case in every coding language). For example:"
   ]
  },
  {
   "cell_type": "code",
   "execution_count": null,
   "metadata": {
    "id": "gFNtkKCTyD8w"
   },
   "outputs": [],
   "source": [
    "variable=\"Turnips\"\n",
    "print(variable)\n",
    "variable=4\n",
    "print(variable)"
   ]
  },
  {
   "cell_type": "markdown",
   "metadata": {
    "id": "OOYdYFo1yD8y"
   },
   "source": [
    "When a new value is assigned to a variable it no longer references the value it previously referenced. In many cases, that means the information will be lost.\n",
    "\n",
    "## Types\n",
    "Every variable and expression in Python will reference an example of a particular type of data. There are a large number of variable types in Python and it's possible to define your own variable types.  The example of a type which referenced by a variable is called an \"object\" . Objects of different types will have different properties and may behave differently to each other when different operators are used with them.\n",
    "\n",
    "You can check which type of object any variable references using the ```type``` command. For example:"
   ]
  },
  {
   "cell_type": "code",
   "execution_count": null,
   "metadata": {
    "id": "yJVz7pEqyD8y"
   },
   "outputs": [],
   "source": [
    "print(type(1))\n",
    "print(type(1.1))\n",
    "print(type(False))"
   ]
  },
  {
   "cell_type": "markdown",
   "metadata": {
    "id": "YokwsDZjQJhz"
   },
   "source": [
    "This section will familiarise you with some common types in Python."
   ]
  },
  {
   "cell_type": "markdown",
   "metadata": {
    "id": "6xzBmJ1myD80"
   },
   "source": [
    "### Numeric values\n",
    "A family of types (```int```, ```float``` and ```complex```) deals with different numeric types.\n",
    "\n",
    "Python will automatically use different precisions and lengths of numbers, allowing a very wide range of values to be represented. If you don't understand this statement, you don't need to worry about it, this is more to inform students who are already familiar with other coding languages where this might not be the case.\n",
    "\n",
    "Operations using one type of number will not always produce the same type of number. For instance:"
   ]
  },
  {
   "cell_type": "code",
   "execution_count": 1,
   "metadata": {
    "colab": {
     "base_uri": "https://localhost:8080/"
    },
    "executionInfo": {
     "elapsed": 5,
     "status": "ok",
     "timestamp": 1689419281709,
     "user": {
      "displayName": "SM",
      "userId": "11220677222082138407"
     },
     "user_tz": -60
    },
    "id": "9Q2gOMFDyD81",
    "outputId": "985affb7-6b74-4237-b345-78ee47db50fe"
   },
   "outputs": [
    {
     "name": "stdout",
     "output_type": "stream",
     "text": [
      "<class 'int'>\n",
      "<class 'int'>\n",
      "<class 'int'>\n",
      "Subtraction:\n",
      "1\n",
      "<class 'int'>\n",
      "Division:\n",
      "1.3333333333333333\n",
      "<class 'float'>\n",
      "2.0\n",
      "<class 'float'>\n",
      "Integer Division:\n",
      "1\n",
      "<class 'int'>\n",
      "2\n",
      "<class 'int'>\n"
     ]
    }
   ],
   "source": [
    "int1=4\n",
    "int2=3\n",
    "int3=2\n",
    "\n",
    "print(type(int1))\n",
    "print(type(int2))\n",
    "print(type(int3))\n",
    "\n",
    "print(\"Subtraction:\")\n",
    "print(int1-int2)\n",
    "print(type(int1-int2))\n",
    "\n",
    "print(\"Division:\")\n",
    "print(int1/int2)\n",
    "print(type(int1/int2))\n",
    "\n",
    "print(int1/int3)\n",
    "print(type(int1/int3))\n",
    "\n",
    "print(\"Integer Division:\")\n",
    "print(int1//int2)\n",
    "print(type(int1//int2))\n",
    "\n",
    "print(int1//int3)\n",
    "print(type(int1//int3))"
   ]
  },
  {
   "cell_type": "markdown",
   "metadata": {
    "id": "cURUwWF2yD82"
   },
   "source": [
    "In the example above, Python returned an ```int``` for most operations using integers, but the division operator produced a ```float``` result, even when the result is expressible as an integer (for instance, $4/2=2$). Integer division, meanwhile, always produces an ```int``.\n",
    "\n",
    "This may sound complicated, but the good news is that Python generally does smart things when working with the numerical types so you don't need to worry about the conversions most of the time.\n",
    "\n",
    "Sometimes, you will want to convert between different ```int```s and ```float```s. You may obtain a float version of the variable ```x``` by writing:\n",
    "\n",
    "```python\n",
    "float(x)\n",
    "```\n",
    "\n",
    "By writing:\n",
    "\n",
    "```python\n",
    "int(x)\n",
    "```\n",
    "\n",
    "you will convert a number to an integer (rounding toward zero). If you want to round to the nearest number, you can instead write:\n",
    "\n",
    "```python\n",
    "round(x)\n",
    "```\n",
    "\n",
    "### Exercise\n",
    "\n",
    "At each stage of the following, use print statements to check you get the result you expect:\n",
    "* In the cell below, create a variable named ```my_number``` and set its value to 2.6\n",
    "* Create a copy of it called ```round_down``` which is an int, rounded toward zero\n",
    "* Create another copy of it called ```round_nearest``` which is an int, rounded to the nearest integer\n",
    "* Create a copy of ```round_nearest``` called ```new_float``` which is a float.\n",
    "* Change the value of ```my_number``` to -3.6 and re-run the cell"
   ]
  },
  {
   "cell_type": "code",
   "execution_count": 1,
   "metadata": {
    "id": "BZ-dNzHsN38M"
   },
   "outputs": [
    {
     "name": "stdout",
     "output_type": "stream",
     "text": [
      "Number: 2.6; rounds down to 2; rounds to 3. New float: 3.0\n",
      "New number:-3.6\n"
     ]
    }
   ],
   "source": [
    "my_number: float = 2.6\n",
    "\n",
    "round_down = int(my_number)\n",
    "\n",
    "round_nearest = round(my_number)\n",
    "\n",
    "new_float: float = float(round_nearest)\n",
    "\n",
    "print(f\"Number: {my_number}; rounds down to {round_down}; rounds to {round_nearest}. New float: {new_float}\")\n",
    "\n",
    "\n",
    "# change number\n",
    "my_number = -3.6\n",
    "\n",
    "print(f\"New number:{my_number}\")\n",
    "\n"
   ]
  },
  {
   "cell_type": "code",
   "execution_count": null,
   "metadata": {
    "colab": {
     "base_uri": "https://localhost:8080/"
    },
    "executionInfo": {
     "elapsed": 231,
     "status": "ok",
     "timestamp": 1689419489071,
     "user": {
      "displayName": "SM",
      "userId": "11220677222082138407"
     },
     "user_tz": -60
    },
    "id": "z7tqfdWBCOHt",
    "outputId": "e14f7051-5ab5-4a58-85d1-3fc0b181b313"
   },
   "outputs": [
    {
     "name": "stdout",
     "output_type": "stream",
     "text": [
      "2.6\n"
     ]
    }
   ],
   "source": [
    "#@title\n",
    "\n",
    "#Create a variable called my_number. Change it to -3.6 for the final part of the exercise\n",
    "my_number=2.6\n",
    "print(my_number)\n",
    "\n",
    "#Create round_down\n",
    "\n",
    "#Create round_nearest\n",
    "\n",
    "\n",
    "#Create new_float\n"
   ]
  },
  {
   "cell_type": "markdown",
   "metadata": {
    "id": "txtibiwjSnhn"
   },
   "source": [
    "### Extension: Complex numbers\n",
    "You can create a complex number using the syntax:\n",
    "\n",
    "```python\n",
    "c=complex(real_part, imaginary_part)\n",
    "```\n",
    "Alternatively, you can use the following syntax to define a purely imaginary number\n",
    "```python\n",
    "c=1j\n",
    "```\n",
    "\n",
    "For example:"
   ]
  },
  {
   "cell_type": "code",
   "execution_count": null,
   "metadata": {
    "id": "jg70ngq4yD83"
   },
   "outputs": [],
   "source": [
    "c1=complex(1,2)\n",
    "c2=2-4j\n",
    "\n",
    "print(c1)\n",
    "print(type(c1))\n",
    "print(c2)\n",
    "print(type(c1))"
   ]
  },
  {
   "cell_type": "markdown",
   "metadata": {
    "id": "4JuKXwJ1yD85"
   },
   "source": [
    "You can also perform operations on complex numbers using the normal mathematical operators. For example:"
   ]
  },
  {
   "cell_type": "code",
   "execution_count": null,
   "metadata": {
    "id": "xf9a7dzcyD85"
   },
   "outputs": [],
   "source": [
    "c1=complex(1,2)\n",
    "c2=2-4j\n",
    "\n",
    "print(c1+c2)\n",
    "print(type(c1+c2))\n",
    "\n",
    "print(c1*c2)\n",
    "print(type(c1*c2))"
   ]
  },
  {
   "cell_type": "markdown",
   "metadata": {
    "id": "7foG5ixwRfVB"
   },
   "source": [
    "#### Extension Exercise\n",
    "In the code cell below, create six variables, two each of: an integer, a float and a complex number. Check their type is correct. Try different combinations of these variables using the exponent operator ```**``` and observe the type of variable returned in each case."
   ]
  },
  {
   "cell_type": "code",
   "execution_count": null,
   "metadata": {
    "id": "lWoYB0JEKPPb"
   },
   "outputs": [
    {
     "name": "stdout",
     "output_type": "stream",
     "text": [
      "(<class 'int'>) ^ (<class 'int'>) = (<class 'int'>)\n",
      "(<class 'int'>) ^ (<class 'float'>) = (<class 'float'>)\n",
      "(<class 'int'>) ^ (<class 'complex'>) = (<class 'complex'>)\n",
      "(<class 'float'>) ^ (<class 'int'>) = (<class 'float'>)\n",
      "(<class 'float'>) ^ (<class 'float'>) = (<class 'float'>)\n",
      "(<class 'float'>) ^ (<class 'complex'>) = (<class 'complex'>)\n",
      "(<class 'complex'>) ^ (<class 'int'>) = (<class 'complex'>)\n",
      "(<class 'complex'>) ^ (<class 'float'>) = (<class 'complex'>)\n",
      "(<class 'complex'>) ^ (<class 'complex'>) = (<class 'complex'>)\n"
     ]
    }
   ],
   "source": [
    "\n",
    "\n",
    "i1, i2, f1, f2, c1, c2 = 4, 6, 2.31, 6.3, complex(1, 2), complex(2, 7)\n",
    "\n",
    "l = [i1, i2, f1, f2, c1, c2]\n",
    "for val in l[::2]:\n",
    "    for exp in l[::2]:\n",
    "        # print(f\"{val} ({type(val)}) ^ {exp} ({type(exp)}) = {val ** exp}\")\n",
    "        print(f\"({type(val)}) ^ ({type(exp)}) = ({type(val ** exp)})\")"
   ]
  },
  {
   "cell_type": "code",
   "execution_count": 9,
   "metadata": {
    "cellView": "form",
    "id": "cysmQgq6DNhp"
   },
   "outputs": [
    {
     "name": "stdout",
     "output_type": "stream",
     "text": [
      "Int Base\n",
      "8\n",
      "2.2973967099940698\n",
      "(0.36691394948660344+1.9660554808224875j)\n",
      "Float Base\n",
      "1.44\n",
      "1.4139835841691542\n",
      "(1.121101310431533+0.42793907480936966j)\n",
      "Complex Base\n",
      "(-3+4j)\n",
      "(0.6299893381068002+2.5498552392592466j)\n",
      "(0.2291401859804338+0.23817011512167555j)\n"
     ]
    }
   ],
   "source": [
    "#@title\n",
    "\n",
    "#Create the ints, floats and complex numbers\n",
    "int1=2\n",
    "int2=3\n",
    "float1=1.2\n",
    "float2=1.9\n",
    "complex1=complex(1,2)\n",
    "complex2=complex(0,1)\n",
    "\n",
    "#Cases where the base is an int\n",
    "print(\"Int Base\")\n",
    "intint=int1**int2\n",
    "print(intint)\n",
    "intfloat=int1**float1\n",
    "print(intfloat)\n",
    "intcomplex=int1**complex1\n",
    "print(intcomplex)\n",
    "\n",
    "#Cases where the base is a float\n",
    "print(\"Float Base\")\n",
    "floatint=float1**int1\n",
    "print(floatint)\n",
    "floatfloat=float1**float2\n",
    "print(floatfloat)\n",
    "floatcomplex=float1**complex1\n",
    "print(floatcomplex)\n",
    "\n",
    "#Cases where the base is an int\n",
    "print(\"Complex Base\")\n",
    "complexint=complex1**int1\n",
    "print(complexint)\n",
    "complexfloat=complex1**float1\n",
    "print(complexfloat)\n",
    "complexcomplex=complex1**complex2\n",
    "print(complexcomplex)"
   ]
  },
  {
   "cell_type": "markdown",
   "metadata": {
    "id": "CL4FMTUfyD87"
   },
   "source": [
    "### Booleans\n",
    "In Python, you may define a value to be a ```bool``` (i.e. true or false), using the syntax:\n",
    "\n",
    "```python\n",
    "bool1=True\n",
    "bool2=False\n",
    "```\n",
    "\n",
    "This will become useful when considering conditionals, which will be covered in a future notebook."
   ]
  },
  {
   "cell_type": "markdown",
   "metadata": {
    "id": "X2B3RHjf8c1T"
   },
   "source": [
    "### Iterable Types\n",
    "One property a type can have within Python is that of being iterable. This means an instance of it actually contains references to a number of other objects. The referenced objects are known as the \"items\" of the instance of the iterable type.\n",
    "\n",
    "These items can be read through in order (this will be covered in the \"Loops\" notebook) or can have individual items accessed using the syntax:\n",
    "\n",
    "```python\n",
    "variable_name[item_identifier]\n",
    "```\n",
    "\n",
    "The exact nature of the item identifier varies between iterable types.\n",
    "\n",
    "We'll now look at the three most common iterable types - strings, lists and dictionaries."
   ]
  },
  {
   "cell_type": "markdown",
   "metadata": {
    "id": "9Zr_xg4nQjTS"
   },
   "source": [
    "#### Strings\n",
    "A String is an iterable type which contain a series of characters. They are defined by placing the string of characters in between a pair of double or single quotation marks. For instance:"
   ]
  },
  {
   "cell_type": "code",
   "execution_count": null,
   "metadata": {
    "id": "uDl-y_gLyD88"
   },
   "outputs": [],
   "source": [
    "print(\"Hello world\")\n",
    "a=\"Hello back!\"\n",
    "print(a)"
   ]
  },
  {
   "cell_type": "markdown",
   "metadata": {
    "id": "Ty3WmymgyD8_"
   },
   "source": [
    "The ```n```th character of a string named ```string1``` may be returned using the syntax:\n",
    "\n",
    "```python\n",
    "string1[n]\n",
    "```\n",
    "\n",
    "The index inside the square brackets is an integer. Note that, in Python the index of the first character is 0 and not 1. This leads to a nice quotation of disputed origin:\n",
    "\n",
    "**\"There are two hard things in computing: cache invalidation, naming things and off-by-one errors\"**\n",
    "\n",
    "It is also possible to use a negative index. This returns an entry in the iterable counting backward from the end of the iterable. For example, to access the last character of ```string1``` you may use the syntax:\n",
    "\n",
    "```python\n",
    "string1[-1]\n",
    "```\n",
    "For example:"
   ]
  },
  {
   "cell_type": "code",
   "execution_count": 3,
   "metadata": {
    "colab": {
     "base_uri": "https://localhost:8080/"
    },
    "executionInfo": {
     "elapsed": 337,
     "status": "ok",
     "timestamp": 1689419516993,
     "user": {
      "displayName": "SM",
      "userId": "11220677222082138407"
     },
     "user_tz": -60
    },
    "id": "wQt4-_uIyD9B",
    "outputId": "491858f5-03e1-4bd2-f4e3-a32e0154ba7b"
   },
   "outputs": [
    {
     "name": "stdout",
     "output_type": "stream",
     "text": [
      "H\n",
      "e\n",
      "!\n"
     ]
    }
   ],
   "source": [
    "a=\"Hello back!\"\n",
    "print(a[0])\n",
    "print(a[1])\n",
    "print(a[-1])"
   ]
  },
  {
   "cell_type": "markdown",
   "metadata": {
    "id": "aCncD3XdyD9D"
   },
   "source": [
    "You can find the length of a string using the ```len``` function, using the syntax:\n",
    "\n",
    "```python\n",
    "len(string1)\n",
    "```\n",
    "\n",
    "For example:"
   ]
  },
  {
   "cell_type": "code",
   "execution_count": 4,
   "metadata": {
    "colab": {
     "base_uri": "https://localhost:8080/"
    },
    "executionInfo": {
     "elapsed": 254,
     "status": "ok",
     "timestamp": 1689419526962,
     "user": {
      "displayName": "SM",
      "userId": "11220677222082138407"
     },
     "user_tz": -60
    },
    "id": "lZEKJKzqyD9D",
    "outputId": "30e15b7b-1679-4049-9394-5283d03e1885"
   },
   "outputs": [
    {
     "name": "stdout",
     "output_type": "stream",
     "text": [
      "5\n"
     ]
    }
   ],
   "source": [
    "print(len(\"snake\"))"
   ]
  },
  {
   "cell_type": "markdown",
   "metadata": {
    "id": "AJ57z0qwyD9F"
   },
   "source": [
    "The ```+``` operator has a special meaning for strings. For strings, it acts as the concatenation operator, meaning it joins two string together into one larger new string. For example:"
   ]
  },
  {
   "cell_type": "code",
   "execution_count": 5,
   "metadata": {
    "colab": {
     "base_uri": "https://localhost:8080/"
    },
    "executionInfo": {
     "elapsed": 233,
     "status": "ok",
     "timestamp": 1689419530619,
     "user": {
      "displayName": "SM",
      "userId": "11220677222082138407"
     },
     "user_tz": -60
    },
    "id": "b5AsimO6yD9G",
    "outputId": "4bf9c832-564e-47df-e3e5-a1d96bb88ce0"
   },
   "outputs": [
    {
     "name": "stdout",
     "output_type": "stream",
     "text": [
      "I'm the best at coding in Python\n"
     ]
    }
   ],
   "source": [
    "string1=\"I'm the best \"\n",
    "string2=\"at coding in Python\"\n",
    "print(string1+string2)"
   ]
  },
  {
   "cell_type": "markdown",
   "metadata": {
    "id": "73QcdUEXyD9I"
   },
   "source": [
    "You can also create a new string containing a single character from inside another string using the syntax:\n",
    "\n",
    "```python\n",
    "string1[index]\n",
    "```\n",
    "\n",
    "or containing multiple characters using the syntax\n",
    "\n",
    "```python\n",
    "string1[start_index:stop_index:step]\n",
    "```\n",
    "Here, the value in the start index ```start_index``` value gives the index of the first character to be included, ```stop_index``` gives the first index not to be included and ```step``` gives the frequency of characters to be included (e.g. a step of 1 means every character, 2 means every other character, etc).\n",
    "\n",
    "If the ```start_index``` is ommitted (but the colons remain), the results will run from the start of the list. If the ```stop_index``` is ommitted (but the colons remain), the results will run until the end of the list. For instance:\n",
    "\n",
    "```python\n",
    "my_string[::1]\n",
    "```\n",
    "\n",
    "will return a new string containing every character in every character in ```my_string```.\n",
    "\n",
    "There are a number of other very useful string operators and functions in Python, but we won't be examining them in this notebook.\n",
    "\n",
    "##### Exercise\n",
    "\n",
    "For the following example, write down what you think the results will be before running the example. Remember that spaces count as characters."
   ]
  },
  {
   "cell_type": "code",
   "execution_count": 6,
   "metadata": {
    "colab": {
     "base_uri": "https://localhost:8080/"
    },
    "executionInfo": {
     "elapsed": 207,
     "status": "ok",
     "timestamp": 1689419541889,
     "user": {
      "displayName": "SM",
      "userId": "11220677222082138407"
     },
     "user_tz": -60
    },
    "id": "LWSoSrTxyD9J",
    "outputId": "6aad6116-716b-4323-9a39-daea5ed7f1cf"
   },
   "outputs": [
    {
     "name": "stdout",
     "output_type": "stream",
     "text": [
      "n\n",
      "sya\n",
      "sm aort agae\n"
     ]
    }
   ],
   "source": [
    "string1=\"Python\"\n",
    "string2=\"is my favourite language\"\n",
    "\n",
    "excerpt1=string1[-1]\n",
    "print(excerpt1)\n",
    "\n",
    "excerpt2=string2[1:10:3]\n",
    "print(excerpt2)\n",
    "\n",
    "excerpt3=string2[1::2]\n",
    "print(excerpt3)"
   ]
  },
  {
   "cell_type": "markdown",
   "metadata": {
    "id": "i5HyGB9IyD9K"
   },
   "source": [
    "Try the following exercises in the cell below:\n",
    "- Define a string of your choice with at least ten characters\n",
    "- Print the first character of the string\n",
    "- Make two new strings\n",
    "    - One from the first three characters\n",
    "    - One from the last three characters\n",
    "- Join these strings together to form a new string\n",
    "- Make another string containing every other character of your string beginning with the second character"
   ]
  },
  {
   "cell_type": "code",
   "execution_count": 16,
   "metadata": {
    "id": "_cZYD_7DyD9L"
   },
   "outputs": [
    {
     "name": "stdout",
     "output_type": "stream",
     "text": [
      "o\n",
      "first three characters:  omr\n",
      "last three characters:   nif\n"
     ]
    },
    {
     "data": {
      "text/plain": [
       "'magcracrfljmi'"
      ]
     },
     "execution_count": 16,
     "metadata": {},
     "output_type": "execute_result"
    }
   ],
   "source": [
    "myString = \"omrajgicmrkajcorkfalqjrmnif\"\n",
    "\n",
    "# First character:\n",
    "print(myString[0])\n",
    "\n",
    "# 2 more strings\n",
    "myString2 = myString[0:3]\n",
    "myString3 = myString[-3:]\n",
    "\n",
    "print(f\"first three characters:  {myString2}\")\n",
    "print(f\"last three characters:   {myString3}\")\n",
    "\n",
    "finalString = myString[1::2]\n",
    "finalString"
   ]
  },
  {
   "cell_type": "code",
   "execution_count": null,
   "metadata": {
    "id": "QD3b3bmp5j5V"
   },
   "outputs": [],
   "source": [
    "#@title\n",
    "\n",
    "#Define the string\n",
    "my_string=\n",
    "\n",
    "#Print the first two characters of the string\n",
    "\n",
    "\n",
    "#Make the two short strings\n",
    "\n",
    "\n",
    "#Make a new string by joining these strings together\n",
    "\n",
    "\n",
    "#Create a string contianing alternating characters of the string\n"
   ]
  },
  {
   "cell_type": "markdown",
   "metadata": {
    "id": "Bl6P2bmIyD9N"
   },
   "source": [
    "##### Extension Exercise\n",
    "What happens if you use a negative ```step``` in the index? What happens if you do this and make your ```start_index``` value higher than your ```stop index``` value?\n",
    "\n",
    "For the variable ```code_string``` in the example below, print every third value, counting backward from the penultimate character. You should get a message. Remember the use of the negative index here!"
   ]
  },
  {
   "cell_type": "code",
   "execution_count": 19,
   "metadata": {
    "id": "JkGvTbMIyD9N"
   },
   "outputs": [
    {
     "data": {
      "text/plain": [
       "'You cracked the code!'"
      ]
     },
     "execution_count": 19,
     "metadata": {},
     "output_type": "execute_result"
    }
   ],
   "source": [
    "code_string=\"q!2refrdgho2!c73 h#eg4hfet@f gvdd4e kkfgc1dab,r3fcgh fguthofeYe\"\n",
    "#@title\n",
    "\n",
    "#Print the relevant charcters from the string\n",
    "\n",
    "new_string: str = code_string[-2:0:-3]\n",
    "new_string # 'You cracked the code!'\n",
    "\n"
   ]
  },
  {
   "cell_type": "markdown",
   "metadata": {
    "id": "wPsNTP51yD9P"
   },
   "source": [
    "#### Lists\n",
    "Lists are another kind of iterable type that use an integer as their index. Lists are very useful for grouping together related data within a code.\n",
    "\n",
    "A list can be created using the syntax:\n",
    "\n",
    "```python\n",
    "list1=[item0, item1, item2]\n",
    "```\n",
    "where you may have 0 or more items specified inside the square brackets. Thus, an empty list can be created with:\n",
    "```python\n",
    "list1=[]\n",
    "```\n",
    "\n",
    "Items within the list can be accessed in the same way as characters of a string:"
   ]
  },
  {
   "cell_type": "code",
   "execution_count": null,
   "metadata": {
    "id": "36JDogncyD9Q"
   },
   "outputs": [],
   "source": [
    "shopping_list=[\"apples\", \"bananas\", \"bread\", \"mushrooms\"]\n",
    "print(shopping_list[0])\n",
    "print(shopping_list[-1])\n",
    "print(shopping_list[1:4:2])"
   ]
  },
  {
   "cell_type": "markdown",
   "metadata": {},
   "source": []
  },
  {
   "cell_type": "markdown",
   "metadata": {
    "id": "W3Zpxm9LyD9R"
   },
   "source": [
    "Note that, in this case, returning multiple items from the list for an index causes a list to be returned containing the relevant items. You can also add items to the end of a list using the ```append``` method. Methods are pieces of code which are part of a type which act on the contents of the type. They may be accessed using the syntax:\n",
    "\n",
    "```python\n",
    "variable_name.method_name(argument1, argument2, argument3)\n",
    "```\n",
    "\n",
    "An argument is a variable written in parentheses which tells the method what you want it to do. A method may require 0 or more arguments (depending on the requirements of the method in question).\n",
    "\n",
    "For the ```append``` method of the list class, the syntax is:\n",
    "\n",
    "```python\n",
    "list1.append(item_to_be_appended)\n",
    "```\n",
    "\n",
    "Another way to insert an item into a list is using the ```insert``` method which has two arguments and inserts a value into the list. The first is the index the value is to be inserted in, the next is the value to be inserted. Note that lists may have items of a number of different types. An item in a list can itself be any type of object, including a list. For example:\n"
   ]
  },
  {
   "cell_type": "code",
   "execution_count": null,
   "metadata": {
    "id": "TdU1ylUwyD9S"
   },
   "outputs": [],
   "source": [
    "assorted_data=[\"shoes\", 1]\n",
    "\n",
    "assorted_data.append(False)\n",
    "print(assorted_data)\n",
    "\n",
    "assorted_data.insert(1, 3.14)\n",
    "print(assorted_data)\n",
    "\n",
    "assorted_data.append([1,2])\n",
    "print(assorted_data)\n",
    "\n",
    "print(type(assorted_data))\n",
    "print(type(assorted_data[0]))\n",
    "print(type(assorted_data[1]))\n",
    "print(type(assorted_data[2]))\n",
    "print(type(assorted_data[3]))\n",
    "print(type(assorted_data[4]))"
   ]
  },
  {
   "cell_type": "markdown",
   "metadata": {
    "id": "xAHCmbQpEMlN"
   },
   "source": [
    "It's also possible to change the value of a list by assigning to it. For example:"
   ]
  },
  {
   "cell_type": "code",
   "execution_count": null,
   "metadata": {
    "id": "0Ba5Q-SQERyL"
   },
   "outputs": [],
   "source": [
    "my_list=[1,2,34]\n",
    "print(my_list)\n",
    "\n",
    "my_list[1]=4\n",
    "print(my_list)"
   ]
  },
  {
   "cell_type": "markdown",
   "metadata": {
    "id": "5ib304sXyD9U"
   },
   "source": [
    "##### Exercise\n",
    "\n",
    "In the cell below:\n",
    "- Create a list named ```cuddly_animals``` with the names of at least two cuddly animals as items\n",
    "- Append (add) the name of another cuddly animal to the end of the list\n",
    "- Insert the name of yet another cuddly animal so it is the first entry in this list\n",
    "- What happens if you use the ```+``` operator between the lists ```shopping_list``` and ```cuddly_animals```?\n",
    "- What happens if you try to print the value of an item of a list using an index greater than the number of items in the list?\n",
    "- What happens if you try to set the value of an item of a list using an index greater than the number of items in the list?"
   ]
  },
  {
   "cell_type": "code",
   "execution_count": 27,
   "metadata": {
    "id": "zl59MYyryD9U"
   },
   "outputs": [
    {
     "name": "stdout",
     "output_type": "stream",
     "text": [
      "Initial list\n",
      " ['panda', 'dog', 'cat', 'cow', 'sheep', 'triceratops', 'snake', 'human']\n",
      "list assignment index out of range\n",
      "list index out of range\n"
     ]
    }
   ],
   "source": [
    "\n",
    "cuddly_animals: list[str] = [\n",
    "    'panda',\n",
    "    'dog',\n",
    "    'cat',\n",
    "    'cow',\n",
    "    'sheep',\n",
    "    'triceratops', # the best one\n",
    "    'snake',\n",
    "    'human'\n",
    "]\n",
    "\n",
    "print(\"Initial list\\n\", cuddly_animals)\n",
    "\n",
    "cuddly_animals.append('dinosaur')\n",
    "\n",
    "cuddly_animals.insert(0, 'goose')\n",
    "cuddly_animals\n",
    "\n",
    "shopping_list=[\"apples\", \"bananas\", \"bread\", \"mushrooms\"]\n",
    "\n",
    "animals_and_shopping_list: list[str] = cuddly_animals + shopping_list\n",
    "animals_and_shopping_list\n",
    "\n",
    "# Index out of range\n",
    "try:\n",
    "    cuddly_animals[99] = 'animal X'\n",
    "except IndexError as e:\n",
    "    print(e)\n",
    "\n",
    "try:\n",
    "    print(cuddly_animals[99])\n",
    "except IndexError as e:\n",
    "    print(e)\n",
    "\n",
    "\n"
   ]
  },
  {
   "cell_type": "code",
   "execution_count": null,
   "metadata": {
    "id": "aa8AC67H60Sx"
   },
   "outputs": [],
   "source": [
    "#@title\n",
    "\n",
    "#Create the initial list of cuddly animals\n",
    "\n",
    "\n",
    "#Append another cuddly animal\n",
    "\n",
    "\n",
    "#Insert another cuddly animal to the start of the list\n",
    "\n",
    "\n",
    "#Join the cuddly animals and shopping lists\n",
    "\n",
    "\n",
    "#Either of the following two lines will produce an error. Comment out each line to see the error produced by the other\n",
    "#print(cuddly_animals[99])\n"
   ]
  },
  {
   "cell_type": "markdown",
   "metadata": {
    "id": "Uq5UqvbSyD9Y"
   },
   "source": [
    "#### Extension: Dictionaries\n",
    "Dictionaries are similar to lists, except that they use a \"key\" instead of an \"index\". This key does not need to be an integer, as with a list. Instead, it may be any \"hashable\" value. We won't go into the details of what this means here, but this includes strings, integers, reals and bools. The syntax for creating a dictionary is:\n",
    "\n",
    "```python\n",
    "dict1={key1:item1, key2:item2, key3:item3}\n",
    "```\n",
    "\n",
    "where you may have 0 or more key-item pairs specified in the curly brackets. You may access an item within a dictionary using the syntax:\n",
    "\n",
    "```python\n",
    "dict1[key]\n",
    "```\n",
    "\n",
    "You can also set an item in the dictionary (including using a new key) using the syntax:\n",
    "\n",
    "```python\n",
    "dict1[key]=item\n",
    "```\n",
    "\n",
    "In the below example, we're going to create a dictionary which contains the atomic numbers of the frst few elements of the periodic table, using their symbols as keys."
   ]
  },
  {
   "cell_type": "code",
   "execution_count": null,
   "metadata": {
    "id": "ewASzJ8lyD9Z"
   },
   "outputs": [],
   "source": [
    "atomic_numbers={\"H\":1, \"He\":2, \"Li\":3}\n",
    "\n",
    "print(atomic_numbers)\n",
    "print(atomic_numbers[\"He\"])\n",
    "print(atomic_numbers[\"H\"])\n",
    "\n",
    "atomic_numbers[\"Be\"]=4\n",
    "\n",
    "print(atomic_numbers)"
   ]
  },
  {
   "cell_type": "markdown",
   "metadata": {
    "id": "4lV8Gu8DyD9c"
   },
   "source": [
    "You can return the keys used in a dictionary using the ```keys``` method of the dictionary. They are not returned as a list, but may be easily converted into a list:"
   ]
  },
  {
   "cell_type": "code",
   "execution_count": null,
   "metadata": {
    "id": "r0YdzdVOyD9d"
   },
   "outputs": [],
   "source": [
    "dict1={1: \"integer_keyed_item\", \"a\": \"string_keyed_item\", False:\"boolean_keyed_item\", 3.14:\"Pi\"}\n",
    "print(dict1.keys())\n",
    "print(list(dict1.keys()))"
   ]
  },
  {
   "cell_type": "markdown",
   "metadata": {
    "id": "oUrDlSdbQ4WS"
   },
   "source": [
    "##### Extension Exercise\n",
    "In the cell below, create a dictionary of your own call ```contacts```. It should have two entries, each having the key of a person's name. The entries themselves should also be dictionaries and have keys ```phone_number```, ```address``` and ```email``` with appropriate values."
   ]
  },
  {
   "cell_type": "code",
   "execution_count": null,
   "metadata": {},
   "outputs": [
    {
     "data": {
      "text/plain": [
       "{'Alice': {'phone_number': '9284 4921',\n",
       "  'address': '123 Street, Town, City Name, Earth, The Solar System, The Milky Way Galaxy',\n",
       "  'email': 'email@example.com'},\n",
       " 'Bob': {'phone_number': '1234 567890',\n",
       "  'address': \"Bob's House\",\n",
       "  'email': 'bob@gmail.com'}}"
      ]
     },
     "execution_count": 28,
     "metadata": {},
     "output_type": "execute_result"
    }
   ],
   "source": [
    "\n",
    "\n",
    "\n",
    "contacts: dict[str, dict[str, str]] = {\n",
    "    \"Alice\": {\n",
    "        \"phone_number\": \"9284 4921\",\n",
    "        \"address\": \"123 Street, Town, City Name, Earth, The Solar System, The Milky Way Galaxy\",\n",
    "        \"email\": \"email@example.com\"\n",
    "    },\n",
    "    \"Bob\": {\n",
    "        \"phone_number\": \"1234 567890\",\n",
    "        \"address\": \"Bob's House\",\n",
    "        \"email\": \"bob@gmail.com\"\n",
    "    }\n",
    "}\n",
    "\n",
    "contacts"
   ]
  },
  {
   "cell_type": "code",
   "execution_count": 8,
   "metadata": {
    "executionInfo": {
     "elapsed": 201,
     "status": "ok",
     "timestamp": 1689419708490,
     "user": {
      "displayName": "SM",
      "userId": "11220677222082138407"
     },
     "user_tz": -60
    },
    "id": "vGn12VW98ELu"
   },
   "outputs": [],
   "source": [
    "#@title\n",
    "\n",
    "#Make individual contacts\n",
    "\n",
    "#Create the dictionary of contacts\n"
   ]
  },
  {
   "cell_type": "markdown",
   "metadata": {
    "id": "VHMwT9MRW06n"
   },
   "source": [
    "## Extension: Immutable and Mutable Types\n",
    "\n",
    "Mutability is a bit more of an advanced topic, so feel free to come back to this section after you have completed the exercises for the other topics!\n",
    "\n",
    "We've now discussed a number of different types of variables. In Python, every variable will always reference an object, which is a specific instance of a type. For example, a variable which has the value ```3``` actually references an object of the ```int``` type which has the value of 3.\n",
    "\n",
    "One useful subdivision within objects is the distinction between mutable and immutable objects. A string is an example of an immutable object and a list is an example of an mutable object. Mutable objects may have their value or part of their value changed, but immutable objects may not. However, the following code is valid:"
   ]
  },
  {
   "cell_type": "code",
   "execution_count": null,
   "metadata": {
    "id": "1NtkfkQWY0_s"
   },
   "outputs": [],
   "source": [
    "string1=\"bananas\"\n",
    "print(string1)\n",
    "string1=\"oranges\"\n",
    "print(string1)"
   ]
  },
  {
   "cell_type": "markdown",
   "metadata": {
    "id": "I75gBno5Y79g"
   },
   "source": [
    "We saw that the value of the variable ```string1``` changed in the second assignment, but we just said that a string was immutable and so couldn't have its value changed. So what's going on?\n",
    "\n",
    "In the first assignment, we create a variable named ```string1``` and a string object for it to reference with the value \"bananas\". This object will exist in a location of the memory of your machine. This string object cannot then be altered. In the second assignment, we create an entirely new string object and reference it with the variable name ```string1```, discarding the old one. To demonstrate this, we can use the functions ``id()`` which returns the memory address of the object passed as an argument and the ```hex()``` function which turns the number into a hexidecimal format (this is a common form for memory addresses).\n"
   ]
  },
  {
   "cell_type": "code",
   "execution_count": null,
   "metadata": {
    "id": "dGQ6mXCKRPyc"
   },
   "outputs": [],
   "source": [
    "string1=\"bananas\"\n",
    "print(hex(id(string1)))\n",
    "string1=\"oranges\"\n",
    "print(hex(id(string1)))"
   ]
  },
  {
   "cell_type": "markdown",
   "metadata": {
    "id": "KmnjAhpQimT-"
   },
   "source": [
    "We see that the memory address of the object referenced by the variable named ```string1``` changes after the second assignment - the variable is referencing an entirely new object.\n",
    "\n",
    "The immutability of strings is the reason why they lack methods such as ```.insert()``` or ```.append()``` that a list has.\n",
    "\n",
    "When we try something similar with a list, the following happens:"
   ]
  },
  {
   "cell_type": "code",
   "execution_count": 9,
   "metadata": {
    "colab": {
     "base_uri": "https://localhost:8080/"
    },
    "executionInfo": {
     "elapsed": 213,
     "status": "ok",
     "timestamp": 1689419745188,
     "user": {
      "displayName": "SM",
      "userId": "11220677222082138407"
     },
     "user_tz": -60
    },
    "id": "8mj-6-MDi3dF",
    "outputId": "7fbe762e-7835-49f3-8c32-92993f727854"
   },
   "outputs": [
    {
     "name": "stdout",
     "output_type": "stream",
     "text": [
      "['turnips']\n",
      "0x77fd20b30cc0\n",
      "['turnips', 'swede']\n",
      "0x77fd20b30cc0\n",
      "['avocado']\n",
      "0x77fd20b31380\n"
     ]
    }
   ],
   "source": [
    "list1=[\"turnips\"]\n",
    "print(list1)\n",
    "print(hex(id(list1)))\n",
    "\n",
    "list1.append(\"swede\")\n",
    "print(list1)\n",
    "print(hex(id(list1)))\n",
    "\n",
    "list1=[\"avocado\"]\n",
    "print(list1)\n",
    "print(hex(id(list1)))"
   ]
  },
  {
   "cell_type": "markdown",
   "metadata": {
    "id": "LHzAIjjmjrQj"
   },
   "source": [
    "We see that appending a new value to the list does not change its address - we are modifying the same object in place in the memory. However, assigning a new list to the variable named ```list1``` still creates a new ```list``` object at a new location in the memory.\n",
    "\n",
    "But what happens to the first ```list``` object we created? The answer is that Python employs a software tool named \"garbage collection\". Python will periodically check through the stored objects in the memory. If an object is not referred to by a variable that exists in the program then there is no way to access this object, but it's taking up memory. As a result, Python will delete this object from the memory, freeing up the space to be used for something else.\n",
    "\n",
    "Most of this happens automatically and you won't need to think about it. But you do need to think about the relationship between variables and the objects they relate to and mutability is important in this."
   ]
  },
  {
   "cell_type": "code",
   "execution_count": null,
   "metadata": {
    "colab": {
     "base_uri": "https://localhost:8080/"
    },
    "executionInfo": {
     "elapsed": 219,
     "status": "ok",
     "timestamp": 1689419800030,
     "user": {
      "displayName": "SM",
      "userId": "11220677222082138407"
     },
     "user_tz": -60
    },
    "id": "1P1ebaQMj-j4",
    "outputId": "cecffcce-75db-498c-f1b0-a63301d27cb5"
   },
   "outputs": [
    {
     "name": "stdout",
     "output_type": "stream",
     "text": [
      "3.4\n",
      "0x10f3d56f0\n",
      "3.4\n",
      "3.4\n",
      "0x10f3d56f0\n",
      "0x10f3d56f0\n",
      "apples\n",
      "3.4\n",
      "0x10d357960\n",
      "0x10f3d56f0\n"
     ]
    }
   ],
   "source": [
    "string1=\"bananas\"\n",
    "print(string1)\n",
    "print(hex(id(string1)))\n",
    "\n",
    "string2=string1\n",
    "print(string1)\n",
    "print(string2)\n",
    "print(hex(id(string1)))\n",
    "print(hex(id(string2)))\n",
    "\n",
    "string1=\"apples\"\n",
    "print(string1)\n",
    "print(string2)\n",
    "print(hex(id(string1)))\n",
    "print(hex(id(string2)))"
   ]
  },
  {
   "cell_type": "markdown",
   "metadata": {
    "id": "sEbJxf1ml3xC"
   },
   "source": [
    "When we create the variable ```string2``` and assigned ```string1``` to it, we didn't create a new object in memory with the same value as ```string1```, we actually created a variable which references the **same** object as ```string1```. Then, when we create a new string reference it with ```string1```, ```string2``` still references the same object.\n",
    "\n",
    "Now, we will try to do something similar for a list (which is mutable):"
   ]
  },
  {
   "cell_type": "code",
   "execution_count": 11,
   "metadata": {
    "colab": {
     "base_uri": "https://localhost:8080/"
    },
    "executionInfo": {
     "elapsed": 227,
     "status": "ok",
     "timestamp": 1689419819901,
     "user": {
      "displayName": "SM",
      "userId": "11220677222082138407"
     },
     "user_tz": -60
    },
    "id": "fN-M7uOhmF6Z",
    "outputId": "8291b2f2-73a9-4567-b645-c5ff8d2dbd35"
   },
   "outputs": [
    {
     "name": "stdout",
     "output_type": "stream",
     "text": [
      "['bananas']\n",
      "0x77fd0c6fe280\n",
      "['bananas']\n",
      "['bananas']\n",
      "0x77fd0c6fe280\n",
      "0x77fd0c6fe280\n",
      "['bananas', 'oranges']\n",
      "['bananas', 'oranges']\n",
      "0x77fd0c6fe280\n",
      "0x77fd0c6fe280\n",
      "['mangoes', 'oranges']\n",
      "['mangoes', 'oranges']\n",
      "0x77fd0c6fe280\n",
      "0x77fd0c6fe280\n",
      "['apples']\n",
      "['mangoes', 'oranges']\n",
      "0x77fd0c6fe340\n",
      "0x77fd0c6fe280\n"
     ]
    }
   ],
   "source": [
    "list1=[\"bananas\"]\n",
    "print(list1)\n",
    "print(hex(id(list1)))\n",
    "\n",
    "list2=list1\n",
    "print(list1)\n",
    "print(list2)\n",
    "print(hex(id(list1)))\n",
    "print(hex(id(list2)))\n",
    "\n",
    "list2.append(\"oranges\")\n",
    "print(list1)\n",
    "print(list2)\n",
    "print(hex(id(list1)))\n",
    "print(hex(id(list2)))\n",
    "\n",
    "list2[0]=\"mangoes\"\n",
    "print(list1)\n",
    "print(list2)\n",
    "print(hex(id(list1)))\n",
    "print(hex(id(list2)))\n",
    "\n",
    "list1=[\"apples\"]\n",
    "print(list1)\n",
    "print(list2)\n",
    "print(hex(id(list1)))\n",
    "print(hex(id(list2)))"
   ]
  },
  {
   "cell_type": "markdown",
   "metadata": {
    "id": "c57cChb5mph2"
   },
   "source": [
    "The behaviour of which variable points to which object remains the same. However, because lists are mutable, we're able to change some properties of the object midway through. When we append \"oranges\" to the list by accessing the ```.append()``` method of ```list2``` or assign a new value to the zeroth entry of the list, we actually change the object that both ```list1``` and ```list2``` reference in-place (i.e. without changing the relationships between the variable names and the underlying object).\n",
    "\n",
    "This is an important concept to grasp as you may have multiple different variables all referencing the same object and, if the object is mutable, changing it by referencing one of these variables will change the underlying object that is referenced by all of these variables.\n",
    "\n",
    "### Extension Exercise\n",
    "In the code cell below, experiment with assignment and changing the values of:\n",
    "\n",
    "* A float\n",
    "* An int\n",
    "* A complex number (if you did the relevant extension exercise above)\n",
    "* A dictionary\n",
    "\n",
    "Use the ```hex(id())``` functions to examine the memory addresses of each variable. Experiment with different operators and assignments on variables with these types to see which will create a new object and which won't. Can you work out (or make an educated guess) which of these types of mutable and immutable? What happens when you independently assign the same value to two separate ```int``` objects (i.e. don't assign either ```int``` to the other)? Can you think why might Python do this?"
   ]
  },
  {
   "cell_type": "code",
   "execution_count": null,
   "metadata": {
    "id": "0DDplyummjsQ"
   },
   "outputs": [
    {
     "name": "stdout",
     "output_type": "stream",
     "text": [
      "float: 3.14 @ 0x10dd6e490\n",
      "float2:3.14 @ 0x10dd6e490\n",
      "integer: 4 @ 0x104eea2c8\n",
      "integer: 4 @ 0x104eea2c8\n",
      "complex number: (3+5j) @ 0x10f3d5950\n",
      "complex number: (3+5j) @ 0x10f3d5950\n",
      "dictionary: {'foo': 'bar', 'bar': 'foo', 'abc': 'xyz'} @ 0x10decdc40\n",
      "dictionary: {'foo': 'bar', 'bar': 'foo', 'abc': 'xyz'} @ 0x10dea5b40\n",
      "float: 4.14 @ 0x10dd6ef30\n",
      "float: 3.14 @ 0x10dd6ef30\n",
      "float: 3.14 @ 0x10dd6ef30\n",
      "float number 2: 3.14 @ 0x10dd6e490\n"
     ]
    }
   ],
   "source": [
    "\n",
    "floatNum = 3.14\n",
    "floatNumber = floatNum\n",
    "integer = 4\n",
    "integer2 = integer\n",
    "complexNum = complex(3, 5)\n",
    "complex2 = complexNum\n",
    "\n",
    "dictionary: dict[str, str] = {\n",
    "    \"foo\": \"bar\",\n",
    "    \"bar\": \"foo\",\n",
    "    \"abc\": \"xyz\"\n",
    "}\n",
    "\n",
    "# same exact values\n",
    "second_dictionary: dict[str, str] = {\n",
    "    \"foo\": \"bar\",\n",
    "    \"bar\": \"foo\",\n",
    "    \"abc\": \"xyz\"\n",
    "}\n",
    "\n",
    "# float, int, complex: same values are stored in same memory location\n",
    "print(f'float: {floatNum} @ {hex(id(floatNum))}')\n",
    "print(f'float2:{floatNumber} @ {hex(id(floatNumber))}')\n",
    "\n",
    "print(f\"integer: {integer} @ {hex(id(integer))}\")\n",
    "print(f\"integer: {integer2} @ {hex(id(integer2))}\")\n",
    "\n",
    "print(f\"complex number: {complexNum} @ {hex(id(complexNum))}\")\n",
    "print(f\"complex number: {complex2} @ {hex(id(complex2))}\")\n",
    "\n",
    "# both variables hold pointers to different addresses\n",
    "print(f\"dictionary: {dictionary} @ {hex(id(dictionary))}\")\n",
    "print(f\"dictionary: {second_dictionary} @ {hex(id(second_dictionary))}\")\n",
    "\n",
    "\n",
    "floatNum += 1; print(f'float: {round(floatNum, 5)} @ {hex(id(floatNum))}')\n",
    "floatNum -= 1; floatNum = round(floatNum, 3) # correct for floating point precision\n",
    "print(f'float: {round(floatNum, 5)} @ {hex(id(floatNum))}')\n",
    "\n",
    "print(f'float: {floatNum} @ {hex(id(floatNum))}')\n",
    "print(f'float number 2: {floatNumber} @ {hex(id(floatNumber))}')\n"
   ]
  },
  {
   "cell_type": "markdown",
   "metadata": {},
   "source": [
    "## Mutability of different types\n",
    "\n",
    "### int, float, bool, string, complex\n",
    "Multiple variables that contain the same value contain pointers to the same location in memory. This means that *changing* one of them changes the value stored in that memory location. This in turn makes all other variables pointing to that memory location also change their value.\n",
    "\n",
    "### lists, dicts\n",
    "They are immutable since they are kept separately in different memory locations even if they have the same value. so it is possible to modify value of one without affecting other variables"
   ]
  },
  {
   "cell_type": "code",
   "execution_count": null,
   "metadata": {
    "id": "L_h2L1KVCQvS"
   },
   "outputs": [],
   "source": [
    "#@title\n",
    "\n",
    "#Define the variables\n",
    "\n",
    "\n",
    "#Floats are immutable, so all we can do is reassign to the float, which changes the id:\n",
    "\n",
    "\n",
    "#Ints are immutable, so all we can do is reassign to the float, which changes the id:\n",
    "\n",
    "\n",
    "#Complex numbers are immutable, so all we can do is reassign to the complex number, which changes the id:\n",
    "\n",
    "\n",
    "#Dictionaries are mutable, so we can change values in the dictionary without changing its id:\n",
    "\n",
    "#However, assigning a new variable to the dictionary creates a new object with a new id:\n"
   ]
  }
 ],
 "metadata": {
  "colab": {
   "provenance": [
    {
     "file_id": "1u8NpyHZawQYEyflUOTR5MF9SbS32gemr",
     "timestamp": 1571063597565
    },
    {
     "file_id": "1MGiSdjwqzzePYzmGM_Llvlfn1oltocd0",
     "timestamp": 1569488133459
    }
   ]
  },
  "kernelspec": {
   "display_name": "base",
   "language": "python",
   "name": "python3"
  },
  "language_info": {
   "codemirror_mode": {
    "name": "ipython",
    "version": 3
   },
   "file_extension": ".py",
   "mimetype": "text/x-python",
   "name": "python",
   "nbconvert_exporter": "python",
   "pygments_lexer": "ipython3",
   "version": "3.12.4"
  }
 },
 "nbformat": 4,
 "nbformat_minor": 0
}
